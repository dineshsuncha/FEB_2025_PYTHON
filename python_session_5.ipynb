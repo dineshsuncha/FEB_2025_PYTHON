{
 "cells": [
  {
   "cell_type": "markdown",
   "id": "06f4b0aa-1f1d-46d5-9e5a-aa422aa3eb20",
   "metadata": {},
   "source": [
    "- variables\n",
    "- data types\n",
    "- Type casting (convert one data type to another data type)\n",
    "- Doc string\n",
    "- print statements"
   ]
  },
  {
   "cell_type": "code",
   "execution_count": 2,
   "id": "aea2b5d9-019c-4e6d-a49b-b19ca64b44be",
   "metadata": {},
   "outputs": [
    {
     "data": {
      "text/plain": [
       "20"
      ]
     },
     "execution_count": 2,
     "metadata": {},
     "output_type": "execute_result"
    }
   ],
   "source": [
    "num1=30\n",
    "num2=20\n",
    "num1\n",
    "num2"
   ]
  },
  {
   "cell_type": "code",
   "execution_count": 4,
   "id": "57ddc4db-2868-4644-90d5-00d01c72093b",
   "metadata": {},
   "outputs": [
    {
     "name": "stdout",
     "output_type": "stream",
     "text": [
      "30\n",
      "20\n"
     ]
    }
   ],
   "source": [
    "num1=30\n",
    "num2=20\n",
    "print(num1)\n",
    "print(num2)"
   ]
  },
  {
   "cell_type": "code",
   "execution_count": 6,
   "id": "1b107254-97a2-4878-bf34-bb5362d3b7b0",
   "metadata": {},
   "outputs": [
    {
     "name": "stdout",
     "output_type": "stream",
     "text": [
      "30\n",
      "20\n"
     ]
    },
    {
     "data": {
      "text/plain": [
       "(30, 20)"
      ]
     },
     "execution_count": 6,
     "metadata": {},
     "output_type": "execute_result"
    }
   ],
   "source": [
    "num1=30\n",
    "num2=20\n",
    "print(num1),print(num2)\n",
    "num1,num2"
   ]
  },
  {
   "cell_type": "code",
   "execution_count": null,
   "id": "68a30d69-8985-48d0-8de1-8c93accf1e8f",
   "metadata": {},
   "outputs": [],
   "source": [
    "num1=30\n",
    "num2=20\n",
    "print(num1)\n",
    "print(num2)\n",
    "########################\n",
    "num1=30\n",
    "num2=20print(num1),print(num2)\n",
    "num1,num2\n",
    "#############################\n",
    "num1=30\n",
    "num2=20\n",
    "print(num1,num2)\n"
   ]
  },
  {
   "cell_type": "code",
   "execution_count": 8,
   "id": "e202cf09-3fb1-48b7-a938-25a28f6a2fce",
   "metadata": {},
   "outputs": [
    {
     "name": "stdout",
     "output_type": "stream",
     "text": [
      "30\n",
      "20\n"
     ]
    },
    {
     "data": {
      "text/plain": [
       "(None, None)"
      ]
     },
     "execution_count": 8,
     "metadata": {},
     "output_type": "execute_result"
    }
   ],
   "source": [
    "num1=30\n",
    "num2=20\n",
    "print(num1),print(num2)"
   ]
  },
  {
   "cell_type": "code",
   "execution_count": 10,
   "id": "530c95bd-d2a3-43eb-80d4-26187a72981c",
   "metadata": {},
   "outputs": [
    {
     "data": {
      "text/plain": [
       "(30, 20)"
      ]
     },
     "execution_count": 10,
     "metadata": {},
     "output_type": "execute_result"
    }
   ],
   "source": [
    "num1,num2"
   ]
  },
  {
   "cell_type": "code",
   "execution_count": 13,
   "id": "bf1c34e6-fa1f-4327-ba9c-c614a0f13338",
   "metadata": {},
   "outputs": [
    {
     "data": {
      "text/plain": [
       "50"
      ]
     },
     "execution_count": 13,
     "metadata": {},
     "output_type": "execute_result"
    }
   ],
   "source": [
    "num1+num2"
   ]
  },
  {
   "cell_type": "code",
   "execution_count": 15,
   "id": "2df8ef5a-3968-442d-beac-1ae5a014ff3b",
   "metadata": {},
   "outputs": [
    {
     "name": "stdout",
     "output_type": "stream",
     "text": [
      "30 20 python\n"
     ]
    }
   ],
   "source": [
    "print(30,20,'python')"
   ]
  },
  {
   "cell_type": "code",
   "execution_count": 17,
   "id": "186b1f18-ac05-4a94-9ecd-1f93d35e11e2",
   "metadata": {},
   "outputs": [
    {
     "name": "stdout",
     "output_type": "stream",
     "text": [
      "the addition of  100 and 200 is 300\n"
     ]
    }
   ],
   "source": [
    "a=100\n",
    "b=200\n",
    "c=a+b\n",
    "# the addition of 100 and 200 is 300\n",
    "print('the addition of ',a,'and',b,'is',c)"
   ]
  },
  {
   "cell_type": "code",
   "execution_count": 19,
   "id": "39f8d1e7-6f8b-4baf-8978-24312f6533f0",
   "metadata": {},
   "outputs": [
    {
     "name": "stdout",
     "output_type": "stream",
     "text": [
      "my name is python im 10 years old from hyd\n"
     ]
    }
   ],
   "source": [
    "name='python'\n",
    "age=10\n",
    "city='hyd'\n",
    "# my name is python im 10 years old from hyd\n",
    "print('my name is',name,'im',age,'years old from',city)"
   ]
  },
  {
   "cell_type": "markdown",
   "id": "0df5b6cb-98d8-4145-a64a-23400062eac4",
   "metadata": {},
   "source": [
    "**Fromat**"
   ]
  },
  {
   "cell_type": "code",
   "execution_count": 28,
   "id": "9e22789f-cc81-4307-9c8f-a6d58f9beff2",
   "metadata": {},
   "outputs": [
    {
     "name": "stdout",
     "output_type": "stream",
     "text": [
      "the addition of 100 and 200 is 300\n",
      "the addition of 1000 and 200 is 1200\n"
     ]
    }
   ],
   "source": [
    "a=1000\n",
    "b=200\n",
    "c=a+b\n",
    "# the addition of 100 and 200 is 300\n",
    "print('the addition of 100 and 200 is 300')\n",
    "print('the addition of {} and {} is {}'.format(a,b,c))"
   ]
  },
  {
   "cell_type": "code",
   "execution_count": 32,
   "id": "6a8dcaad-3eda-48ef-9b69-e039bedef8c1",
   "metadata": {},
   "outputs": [
    {
     "name": "stdout",
     "output_type": "stream",
     "text": [
      "my name is  python im 10 years old and from hyd\n",
      "my name is python im 10 years old and from hyd\n",
      "my name is hyd im 10 years old and from python\n"
     ]
    }
   ],
   "source": [
    "name='python'\n",
    "age=10\n",
    "city='hyd'\n",
    "# my name is mython im 10 years old and from hyd\n",
    "print('my name is ',name,'im',age,'years old and from',city)\n",
    "print('my name is {} im {} years old and from {}'.format(name,age,city))\n",
    "print('my name is {} im {} years old and from {}'.format(city,age,name))"
   ]
  },
  {
   "cell_type": "code",
   "execution_count": 36,
   "id": "58ffdff7-9fe1-422d-a0ec-6cc72a930afa",
   "metadata": {},
   "outputs": [
    {
     "name": "stdout",
     "output_type": "stream",
     "text": [
      "the addition of 100 and 200 is 300\n",
      "the subtraction of 100 and 200 is -100\n",
      "the multiplication of 100 and 200 is 20000\n",
      "the dividion of 100 and 200 is 0.5\n"
     ]
    }
   ],
   "source": [
    "n1=100\n",
    "n2=200\n",
    "add=n1+n2\n",
    "sub=n1-n2\n",
    "mul=n1*n2\n",
    "div=n1/n2\n",
    "print('the addition of {} and {} is {}'.format(n1,n2,n1+n2))\n",
    "print('the subtraction of {} and {} is {}'.format(n1,n2,n1-n2))\n",
    "print('the multiplication of {} and {} is {}'.format(n1,n2,n1*n2))\n",
    "print ('the dividion of {} and {} is {}'.format(n1,n2,n1/n2))"
   ]
  },
  {
   "cell_type": "code",
   "execution_count": null,
   "id": "4f7ebac5-8c38-411a-a68f-886e54188dd5",
   "metadata": {},
   "outputs": [],
   "source": []
  },
  {
   "cell_type": "markdown",
   "id": "f220c690-7bb3-43b1-9507-b20b64c0bcc7",
   "metadata": {},
   "source": [
    "**f string**"
   ]
  },
  {
   "cell_type": "code",
   "execution_count": 9,
   "id": "1878439e-db9f-4d23-b0d2-75f785e03c28",
   "metadata": {},
   "outputs": [
    {
     "name": "stdout",
     "output_type": "stream",
     "text": [
      "the addition of 100 and 200 is 300.\n",
      "the substraction of 100 and 200 is 300.\n",
      "the multiplication of 100 and 200 is 300.\n",
      "the division of 100 and 200 is 300.\n"
     ]
    }
   ],
   "source": [
    "a=100\n",
    "b=200\n",
    "c=a+b\n",
    "# the addition of 100 and 200 is 300\n",
    "print(f'the addition of {a} and {b} is {c}.')\n",
    "print(f'the substraction of {a} and {b} is {c}.')\n",
    "print(f'the multiplication of {a} and {b} is {c}.')\n",
    "print(f'the division of {a} and {b} is {c}.')"
   ]
  },
  {
   "cell_type": "code",
   "execution_count": 38,
   "id": "2aeb55ae-a3bb-41db-a957-618ccdf562f1",
   "metadata": {},
   "outputs": [
    {
     "name": "stdout",
     "output_type": "stream",
     "text": [
      "the addition of 100 and 200 is 300\n",
      "the subtraction of 100 and 200 is -100\n",
      "the multiplication of 100 and 200 is 20000\n",
      "the division of 100 and 200 is 0.5\n"
     ]
    }
   ],
   "source": [
    "n1=100\n",
    "n2=200\n",
    "sub=n1-n2\n",
    "mul=n1*n2\n",
    "div=n1/n2\n",
    "print(f'the addition of {n1} and {n2} is {n1+n2}')\n",
    "print(f'the subtraction of {n1} and {n2} is {n1-n2}')\n",
    "print(f'the multiplication of {n1} and {n2} is {n1*n2}')\n",
    "print(f'the division of {n1} and {n2} is {n1/n2}')\n"
   ]
  },
  {
   "cell_type": "code",
   "execution_count": null,
   "id": "17ac17d3-49d7-498b-8e33-1ac36a7881bd",
   "metadata": {},
   "outputs": [],
   "source": []
  },
  {
   "cell_type": "code",
   "execution_count": null,
   "id": "e02265ed-cf09-45f0-8de5-593fc57e3105",
   "metadata": {},
   "outputs": [],
   "source": []
  },
  {
   "cell_type": "code",
   "execution_count": null,
   "id": "ab80f3f7-6d93-4bc3-a110-c10d072bda1e",
   "metadata": {},
   "outputs": [],
   "source": []
  },
  {
   "cell_type": "code",
   "execution_count": null,
   "id": "493920ca-bdf9-47c0-a41c-6d7a0fe1aeaf",
   "metadata": {},
   "outputs": [],
   "source": []
  },
  {
   "cell_type": "code",
   "execution_count": null,
   "id": "950fc72b-ec66-44a6-8fed-6aebc3470459",
   "metadata": {},
   "outputs": [],
   "source": []
  },
  {
   "cell_type": "markdown",
   "id": "5fd9434a-2629-4a8e-846d-8a5eba62df5c",
   "metadata": {},
   "source": [
    "**END**"
   ]
  },
  {
   "cell_type": "markdown",
   "id": "8b92e2fe-2612-4671-8f41-1069ecc6e660",
   "metadata": {},
   "source": [
    "$END$"
   ]
  },
  {
   "cell_type": "code",
   "execution_count": 15,
   "id": "a309a389-535a-44ac-8e58-de2940efc8a3",
   "metadata": {},
   "outputs": [
    {
     "name": "stdout",
     "output_type": "stream",
     "text": [
      "20 ***30\n"
     ]
    }
   ],
   "source": [
    "print(20,end=' ***')\n",
    "print(30)"
   ]
  },
  {
   "cell_type": "code",
   "execution_count": 14,
   "id": "94bf4efc-d005-4568-a89c-3e2fe5574341",
   "metadata": {},
   "outputs": [
    {
     "name": "stdout",
     "output_type": "stream",
     "text": [
      "1  2  3\n"
     ]
    }
   ],
   "source": [
    "print(1,end='  ')\n",
    "print(2,end='  ')\n",
    "print(3)"
   ]
  },
  {
   "cell_type": "code",
   "execution_count": 16,
   "id": "029baeb8-3ea5-4019-ae5b-e4e7f346c2f5",
   "metadata": {},
   "outputs": [
    {
     "name": "stdout",
     "output_type": "stream",
     "text": [
      "20 **** 30\n"
     ]
    }
   ],
   "source": [
    "print(20,'****',30)"
   ]
  },
  {
   "cell_type": "code",
   "execution_count": 17,
   "id": "b5216180-b1d9-4e6f-8e64-644f220ec612",
   "metadata": {},
   "outputs": [
    {
     "name": "stdout",
     "output_type": "stream",
     "text": [
      "20****30\n"
     ]
    }
   ],
   "source": [
    "print(20,end='****')\n",
    "print(30)"
   ]
  },
  {
   "cell_type": "markdown",
   "id": "706ad147-f22c-4d85-8313-d4b714542c4c",
   "metadata": {},
   "source": [
    "- we want to seperate the multiple varibles in one print statement"
   ]
  },
  {
   "cell_type": "code",
   "execution_count": 18,
   "id": "647874fd-f9b0-43cc-b81f-651aef512ca1",
   "metadata": {},
   "outputs": [
    {
     "name": "stdout",
     "output_type": "stream",
     "text": [
      "20 ----> 30\n"
     ]
    }
   ],
   "source": [
    "print(20,'---->',30)"
   ]
  },
  {
   "cell_type": "markdown",
   "id": "67763ea2-5597-4d9e-bf89-b8206de3dafd",
   "metadata": {},
   "source": [
    "seperate operater"
   ]
  },
  {
   "cell_type": "code",
   "execution_count": 19,
   "id": "416e78af-8f9e-47e9-80e6-8d4cf4269402",
   "metadata": {},
   "outputs": [
    {
     "name": "stdout",
     "output_type": "stream",
     "text": [
      "20@@@30@@@50\n"
     ]
    }
   ],
   "source": [
    "print(20,30,50,sep='@@@')"
   ]
  },
  {
   "cell_type": "markdown",
   "id": "431ac6fd-457a-4207-8d19-7af289b164ef",
   "metadata": {},
   "source": [
    "- end operator used to combine multiple print statements\n",
    "- sep operator use to seperate the multiple variables in a single print"
   ]
  },
  {
   "cell_type": "code",
   "execution_count": 23,
   "id": "b17c0354-a1d2-4dc8-a163-8c5bfe2a762a",
   "metadata": {},
   "outputs": [
    {
     "name": "stdout",
     "output_type": "stream",
     "text": [
      "the addition of 3+4 is 7 .\n",
      "the addition of 3 and 4 is 7\n",
      "the addition of 3 and 4 is 7\n",
      "the addition of 100 and 200 is 300\n"
     ]
    }
   ],
   "source": [
    "print('the addition of 3+4 is',3+4,'.')\n",
    "print(\"the addition of\",3 , \"and\", 4, \"is\", 3+4)\n",
    "print(\"the addition of {} and {} is {}\".format(3,4,3+4))\n",
    "print(f'the addition of {a} and {b} is {a+b}')"
   ]
  },
  {
   "cell_type": "code",
   "execution_count": 24,
   "id": "9924cf8a-8a78-43e5-849b-692186e936d0",
   "metadata": {},
   "outputs": [
    {
     "name": "stdout",
     "output_type": "stream",
     "text": [
      "the addition of 3+4 is7.\n"
     ]
    }
   ],
   "source": [
    "print('the addition of 3+4 is',3+4,'.',sep='')"
   ]
  },
  {
   "cell_type": "code",
   "execution_count": null,
   "id": "5759aa95-c7ea-4798-b25f-80cc74dfc8a7",
   "metadata": {},
   "outputs": [],
   "source": []
  }
 ],
 "metadata": {
  "kernelspec": {
   "display_name": "Python 3 (ipykernel)",
   "language": "python",
   "name": "python3"
  },
  "language_info": {
   "codemirror_mode": {
    "name": "ipython",
    "version": 3
   },
   "file_extension": ".py",
   "mimetype": "text/x-python",
   "name": "python",
   "nbconvert_exporter": "python",
   "pygments_lexer": "ipython3",
   "version": "3.12.7"
  }
 },
 "nbformat": 4,
 "nbformat_minor": 5
}
