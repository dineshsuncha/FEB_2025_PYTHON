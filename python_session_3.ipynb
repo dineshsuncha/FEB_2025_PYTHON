{
 "cells": [
  {
   "cell_type": "markdown",
   "id": "b8673d26-8581-4916-8b8c-897a6b790ee9",
   "metadata": {},
   "source": [
    "DATA TYPES"
   ]
  },
  {
   "cell_type": "markdown",
   "id": "a2809b88-26be-458b-870c-2e352475c3dc",
   "metadata": {},
   "source": [
    "- python can say data type of the value with out intializaing\n",
    "- which means the data type automatically consider\n",
    "- python has some inbuilt datatype structure\n",
    "- int: intrger \n",
    "- float\n",
    "- str: string\n",
    "- bool:boolean\n",
    "- complex\n",
    "- list\n",
    "- tuple\n",
    "- dict: dictionary\n",
    "- set\n",
    "- frozenset\n",
    "- bytes\n",
    "- bytearray\n",
    "- memoryview"
   ]
  },
  {
   "cell_type": "markdown",
   "id": "ea328211-989b-4f24-9aa0-5b3f1840e37f",
   "metadata": {},
   "source": [
    "*****integer*****"
   ]
  },
  {
   "cell_type": "code",
   "execution_count": 9,
   "id": "b4e30aca-47cb-4f24-bde7-e18396d8c513",
   "metadata": {},
   "outputs": [
    {
     "data": {
      "text/plain": [
       "int"
      ]
     },
     "execution_count": 9,
     "metadata": {},
     "output_type": "execute_result"
    }
   ],
   "source": [
    "num=100\n",
    "type(num)"
   ]
  },
  {
   "cell_type": "code",
   "execution_count": 11,
   "id": "32e4383b-1f90-4cec-bc1e-a0fd2ffcc9d3",
   "metadata": {},
   "outputs": [
    {
     "name": "stdout",
     "output_type": "stream",
     "text": [
      "100\n"
     ]
    }
   ],
   "source": [
    "print(num)"
   ]
  },
  {
   "cell_type": "code",
   "execution_count": 15,
   "id": "860cf682-36bb-4e96-abdc-7fe857cfad8a",
   "metadata": {},
   "outputs": [],
   "source": [
    "   # we have numerical language\n",
    "   # age=20\n",
    "   # distance=20\n",
    "   # salry=20000\n",
    "   # mars\n",
    "   # mars ==== earth\n",
    "   # how old are you = 7 years\n",
    "   # 0b111"
   ]
  },
  {
   "cell_type": "markdown",
   "id": "80540a63-23a3-4006-bf46-274345461754",
   "metadata": {},
   "source": [
    "***binary number syster***\n",
    "  - digits:0,1,2,3,4,5,6,7,8,9\n",
    "  - binary : bi means two : 0 and 1\n",
    "  - representation is : 0b001,0b111,0b101,0b111\n",
    "  - wrong represntation is : o,0b102"
   ]
  },
  {
   "cell_type": "code",
   "execution_count": 22,
   "id": "aed5d86b-483e-4e0f-ab2f-3332b486bc00",
   "metadata": {},
   "outputs": [
    {
     "data": {
      "text/plain": [
       "7"
      ]
     },
     "execution_count": 22,
     "metadata": {},
     "output_type": "execute_result"
    }
   ],
   "source": [
    "0b111"
   ]
  },
  {
   "cell_type": "code",
   "execution_count": 24,
   "id": "18577708-1acd-429a-969b-ba8dcdbb663c",
   "metadata": {},
   "outputs": [
    {
     "data": {
      "text/plain": [
       "21"
      ]
     },
     "execution_count": 24,
     "metadata": {},
     "output_type": "execute_result"
    }
   ],
   "source": [
    "0b10101"
   ]
  },
  {
   "cell_type": "code",
   "execution_count": 26,
   "id": "212cda11-9c02-4e43-ba9d-17add59102e4",
   "metadata": {},
   "outputs": [
    {
     "data": {
      "text/plain": [
       "10"
      ]
     },
     "execution_count": 26,
     "metadata": {},
     "output_type": "execute_result"
    }
   ],
   "source": [
    "0b1010"
   ]
  },
  {
   "cell_type": "code",
   "execution_count": 28,
   "id": "8a5e7ce6-8fd8-411f-8218-3d29a85aa222",
   "metadata": {},
   "outputs": [
    {
     "data": {
      "text/plain": [
       "15"
      ]
     },
     "execution_count": 28,
     "metadata": {},
     "output_type": "execute_result"
    }
   ],
   "source": [
    "0b1111"
   ]
  },
  {
   "cell_type": "code",
   "execution_count": null,
   "id": "35170c12-ce75-49fb-b9e5-4153b96d3ae8",
   "metadata": {},
   "outputs": [],
   "source": [
    "2^2=4   2^1=2   2^0=1\n",
    "0         0       0       0\n",
    "0         0       1       1\n",
    "0         1       0       2\n",
    "0         1       1       3\n",
    "1         0       0       4\n",
    "1         0       1       5\n",
    "1         1       0       6\n",
    "1         1       1       7"
   ]
  },
  {
   "cell_type": "code",
   "execution_count": null,
   "id": "0d2f6714-e679-4dfe-b78c-76a3f372d05a",
   "metadata": {},
   "outputs": [],
   "source": [
    "2^3=8   2^2=4   2^1=2   2^0=1\n",
    "0       0         0       0       0\n",
    "0       0         0       1       1\n",
    "0       0         1       0       2\n",
    "0       0         1       1       3\n",
    "0       1         0       0       4\n",
    "0       1         0       1       5\n",
    "0       1         1       0       6\n",
    "0       1         1       1       7\n",
    "1       0         0       0       8\n",
    "1       0         0       1       9\n",
    "1       0         1       0       10\n",
    "1       0         1       1       11\n",
    "1       1         0       0       12\n",
    "1       1         0       1       13\n",
    "1       1         1       0       14\n",
    "1       1         1       1       15"
   ]
  },
  {
   "cell_type": "code",
   "execution_count": 33,
   "id": "2b1c178b-5d0f-47ae-a53d-7304dfbc37c9",
   "metadata": {},
   "outputs": [
    {
     "data": {
      "text/plain": [
       "(12, 14)"
      ]
     },
     "execution_count": 33,
     "metadata": {},
     "output_type": "execute_result"
    }
   ],
   "source": [
    "0b1100,0b1110"
   ]
  },
  {
   "cell_type": "markdown",
   "id": "1f223772-59ec-4702-9f4e-f6eb8747d018",
   "metadata": {},
   "source": [
    "**octal number system**\n",
    "\n",
    "- digits: 0,1,2,3,4,5,6,7,8,9\n",
    "\n",
    "- octa : octa means 8  : 0,1,2,3,4,5,6,7\n",
    "\n",
    "- representation is :  0o567,0o123,0O765\n",
    "\n",
    "- wrong represntation is : 'o' as start, 0o789"
   ]
  },
  {
   "cell_type": "code",
   "execution_count": 37,
   "id": "2ead0d36-a311-4624-b312-1358984e4fa8",
   "metadata": {},
   "outputs": [
    {
     "data": {
      "text/plain": [
       "83"
      ]
     },
     "execution_count": 37,
     "metadata": {},
     "output_type": "execute_result"
    }
   ],
   "source": [
    "0o123"
   ]
  },
  {
   "cell_type": "code",
   "execution_count": 39,
   "id": "5d739a43-e644-4c8a-9764-c8ab32e9b4d8",
   "metadata": {},
   "outputs": [
    {
     "data": {
      "text/plain": [
       "2196"
      ]
     },
     "execution_count": 39,
     "metadata": {},
     "output_type": "execute_result"
    }
   ],
   "source": [
    "0o4224"
   ]
  },
  {
   "cell_type": "markdown",
   "id": "abaa5f05-5a35-4c3c-ad04-c0a490379110",
   "metadata": {},
   "source": [
    "**hexa number system**\n",
    "\n",
    "- digits: 0,1,2,3,4,5,6,7,8,9\n",
    "\n",
    "- hexa : hexa means 16  : 0,1,2,3,4,5,6,7,8,9,A=10,B=11,C=12,D=13,E=14,F=15\n",
    "\n",
    "- representation is :  0x567,0X123,0Xabc\n",
    "\n",
    "- wrong represntation is : 'o' as start, 0h67"
   ]
  },
  {
   "cell_type": "code",
   "execution_count": 45,
   "id": "c9c0f9c0-52aa-45c0-bd5f-ec26bf015ccc",
   "metadata": {},
   "outputs": [
    {
     "data": {
      "text/plain": [
       "291"
      ]
     },
     "execution_count": 45,
     "metadata": {},
     "output_type": "execute_result"
    }
   ],
   "source": [
    "0x123"
   ]
  },
  {
   "cell_type": "code",
   "execution_count": 47,
   "id": "a38b9d36-357c-4796-86f9-80b926ad56dd",
   "metadata": {},
   "outputs": [
    {
     "data": {
      "text/plain": [
       "2748"
      ]
     },
     "execution_count": 47,
     "metadata": {},
     "output_type": "execute_result"
    }
   ],
   "source": [
    "0xabc"
   ]
  },
  {
   "cell_type": "markdown",
   "id": "1e45f5c5-cd84-49b9-8198-811680946e83",
   "metadata": {},
   "source": [
    "**float**\n",
    "\n",
    "- float numbers means continues points\n",
    "\n",
    "- float numbers means having some decimals\n",
    "\n",
    "- integer number means discrete points"
   ]
  },
  {
   "cell_type": "code",
   "execution_count": 50,
   "id": "981f47cd-46c9-42fe-b596-d16582e285d3",
   "metadata": {},
   "outputs": [
    {
     "data": {
      "text/plain": [
       "float"
      ]
     },
     "execution_count": 50,
     "metadata": {},
     "output_type": "execute_result"
    }
   ],
   "source": [
    "number=100.25\n",
    "type(number)"
   ]
  },
  {
   "cell_type": "markdown",
   "id": "fa2b0cef-b391-4812-bc3d-924962848cc1",
   "metadata": {},
   "source": [
    "- folat pointd can represent as exponetial formate e"
   ]
  },
  {
   "cell_type": "code",
   "execution_count": 57,
   "id": "08abc005-1096-4cba-8abb-e2a0548d56e6",
   "metadata": {},
   "outputs": [
    {
     "data": {
      "text/plain": [
       "1000.0"
      ]
     },
     "execution_count": 57,
     "metadata": {},
     "output_type": "execute_result"
    }
   ],
   "source": [
    "  1e1 # 1*10\n",
    "  1e2 # 1*100\n",
    "  1e3 # 1*1000"
   ]
  },
  {
   "cell_type": "code",
   "execution_count": 59,
   "id": "c658c1e9-f7a6-4809-84a9-4c129460df28",
   "metadata": {},
   "outputs": [
    {
     "name": "stdout",
     "output_type": "stream",
     "text": [
      "10.0\n",
      "100.0\n",
      "1000.0\n"
     ]
    }
   ],
   "source": [
    "print(1e+1)  # 1*10\n",
    "print(1e+2)  # 1*100\n",
    "print(1e+3)  # 1*1000"
   ]
  },
  {
   "cell_type": "code",
   "execution_count": 61,
   "id": "cc2f64cb-1004-4217-9371-6bf0b4233764",
   "metadata": {},
   "outputs": [
    {
     "data": {
      "text/plain": [
       "(10.0, 100.0, 1000.0)"
      ]
     },
     "execution_count": 61,
     "metadata": {},
     "output_type": "execute_result"
    }
   ],
   "source": [
    "1e+1,1e+2,1e+3"
   ]
  },
  {
   "cell_type": "code",
   "execution_count": 63,
   "id": "ce8ac364-9be9-475e-8b3e-06173b540a51",
   "metadata": {},
   "outputs": [
    {
     "name": "stdout",
     "output_type": "stream",
     "text": [
      "0.1\n",
      "0.01\n",
      "0.001\n"
     ]
    }
   ],
   "source": [
    "print(1e-1) # 1/10\n",
    "print(1e-2) # 1/100\n",
    "print(1e-3) # 1/1000"
   ]
  },
  {
   "cell_type": "code",
   "execution_count": 65,
   "id": "4dfd336f-7e13-4e7f-a965-08f7e00c2c87",
   "metadata": {},
   "outputs": [
    {
     "data": {
      "text/plain": [
       "1e-10"
      ]
     },
     "execution_count": 65,
     "metadata": {},
     "output_type": "execute_result"
    }
   ],
   "source": [
    "1e-15\n",
    "\n",
    "1/10000000000"
   ]
  },
  {
   "cell_type": "markdown",
   "id": "d8b3bf14-5013-4d59-be60-ceee417ee4b4",
   "metadata": {},
   "source": [
    "**strings**\n",
    " - string means english characters"
   ]
  },
  {
   "cell_type": "code",
   "execution_count": 69,
   "id": "cc3cf61a-a88b-4086-8655-5d31fefd437e",
   "metadata": {},
   "outputs": [
    {
     "data": {
      "text/plain": [
       "str"
      ]
     },
     "execution_count": 69,
     "metadata": {},
     "output_type": "execute_result"
    }
   ],
   "source": [
    "name=\"python\"\n",
    "type(name)"
   ]
  },
  {
   "cell_type": "code",
   "execution_count": 71,
   "id": "9bcfb84d-621d-4f1c-a3c8-5647d9b5ecd6",
   "metadata": {},
   "outputs": [
    {
     "data": {
      "text/plain": [
       "str"
      ]
     },
     "execution_count": 71,
     "metadata": {},
     "output_type": "execute_result"
    }
   ],
   "source": [
    "number='10'\n",
    "type(name)"
   ]
  },
  {
   "cell_type": "code",
   "execution_count": 73,
   "id": "3226330b-41e6-471a-8c67-62b8e7a146ab",
   "metadata": {},
   "outputs": [
    {
     "name": "stdout",
     "output_type": "stream",
     "text": [
      "hello i like 'python'\n"
     ]
    }
   ],
   "source": [
    "sen1=\"hello i like 'python'\"\n",
    "print(sen1)"
   ]
  },
  {
   "cell_type": "code",
   "execution_count": 75,
   "id": "380dfcb1-665a-4596-9958-9f6a0516b76f",
   "metadata": {},
   "outputs": [
    {
     "name": "stdout",
     "output_type": "stream",
     "text": [
      "hello i like \"python\"\n"
     ]
    }
   ],
   "source": [
    "sen2='hello i like \"python\"'\n",
    "print(sen2)"
   ]
  },
  {
   "cell_type": "markdown",
   "id": "de479965-e48e-4318-a354-a6567caff289",
   "metadata": {},
   "source": [
    "- entire sentence in single quotes, then use double quotes to highlite the word\n",
    "- entire sentence in double quotes, then use single qoutes to highlite the word"
   ]
  },
  {
   "cell_type": "code",
   "execution_count": 80,
   "id": "879ccbbe-5577-4318-9795-5d8151316c77",
   "metadata": {},
   "outputs": [
    {
     "data": {
      "text/plain": [
       "'python'"
      ]
     },
     "execution_count": 80,
     "metadata": {},
     "output_type": "execute_result"
    }
   ],
   "source": [
    "name='python'\n",
    "name"
   ]
  },
  {
   "cell_type": "code",
   "execution_count": 82,
   "id": "78169bf0-0b01-45bc-b758-68dbfe6eb312",
   "metadata": {},
   "outputs": [
    {
     "name": "stdout",
     "output_type": "stream",
     "text": [
      "python\n"
     ]
    }
   ],
   "source": [
    "print(name)"
   ]
  },
  {
   "cell_type": "code",
   "execution_count": 84,
   "id": "f72f7b60-d49d-4f54-b160-5136c102302f",
   "metadata": {},
   "outputs": [
    {
     "name": "stdout",
     "output_type": "stream",
     "text": [
      "dinesh\n",
      "python\n"
     ]
    }
   ],
   "source": [
    "name1='python'\n",
    "name2='dinesh'\n",
    "print(name2)\n",
    "print(name1)"
   ]
  },
  {
   "cell_type": "code",
   "execution_count": null,
   "id": "952ad14f-1897-45b5-bc04-6dfbbf37ba43",
   "metadata": {},
   "outputs": [],
   "source": [
    "hello good morning\n",
    "how are you with out /n"
   ]
  },
  {
   "cell_type": "code",
   "execution_count": 86,
   "id": "82ae397c-ba4b-48f6-8e71-02a5da56d5c0",
   "metadata": {},
   "outputs": [
    {
     "name": "stdout",
     "output_type": "stream",
     "text": [
      "hello i like 'pythion'\n",
      "            hai good morning\n",
      "             class data types\n"
     ]
    }
   ],
   "source": [
    "statement=\"\"\"hello i like 'pythion'\n",
    "            hai good morning\n",
    "             class data types\"\"\"\n",
    "print(statement)"
   ]
  },
  {
   "cell_type": "markdown",
   "id": "bf71e0f3-b249-4bf9-bd79-792b6e341338",
   "metadata": {},
   "source": [
    "***DOC string***\n",
    " - if we want to convey information to the user\n",
    " - we will write a statements before coding part\n",
    " - is called as doc string\n",
    " - in jupter note book to convey the information we have markdown\n",
    " - but in vscode we dont have markdown\n",
    " - we convey the information by using triple quotes\n",
    " - if we see anywhere triple quotes means the user trying to convey the information"
   ]
  },
  {
   "cell_type": "code",
   "execution_count": 1,
   "id": "274915ca-63b7-4c8c-91b4-b4e76992146e",
   "metadata": {},
   "outputs": [
    {
     "data": {
      "text/plain": [
       "'                        \\n    write anything you want\\n    '"
      ]
     },
     "execution_count": 1,
     "metadata": {},
     "output_type": "execute_result"
    }
   ],
   "source": [
    "\"\"\"             \n",
    "    write some thing\n",
    "    \"\"\"\n",
    "\n",
    "'''                        \n",
    "    write anything you want\n",
    "    '''"
   ]
  },
  {
   "cell_type": "markdown",
   "id": "02cde4e7-3be9-49c4-8840-2c1eb3b69f4e",
   "metadata": {},
   "source": [
    "***Boolean***"
   ]
  },
  {
   "cell_type": "code",
   "execution_count": 10,
   "id": "2d402c38-71c7-40ee-acc7-027a6e2a8c02",
   "metadata": {},
   "outputs": [
    {
     "data": {
      "text/plain": [
       "bool"
      ]
     },
     "execution_count": 10,
     "metadata": {},
     "output_type": "execute_result"
    }
   ],
   "source": [
    "value=True\n",
    "type(value)"
   ]
  },
  {
   "cell_type": "code",
   "execution_count": null,
   "id": "a5c3f464-4acb-4331-bb98-48d0c8ac1204",
   "metadata": {},
   "outputs": [],
   "source": [
    "value=Fal"
   ]
  },
  {
   "cell_type": "code",
   "execution_count": null,
   "id": "cc5911af-aceb-44f0-b141-151532ad3ded",
   "metadata": {},
   "outputs": [],
   "source": []
  },
  {
   "cell_type": "code",
   "execution_count": null,
   "id": "813ac0d0-08e2-4047-ad76-4f1ece31f1a7",
   "metadata": {},
   "outputs": [],
   "source": []
  },
  {
   "cell_type": "code",
   "execution_count": null,
   "id": "a2cace52-4cd6-4bda-9de3-2d16784d536f",
   "metadata": {},
   "outputs": [],
   "source": []
  },
  {
   "cell_type": "code",
   "execution_count": null,
   "id": "6f0a57a0-39bc-4d72-9f44-a565094ae650",
   "metadata": {},
   "outputs": [],
   "source": []
  },
  {
   "cell_type": "code",
   "execution_count": null,
   "id": "a1cb484a-0c35-4b77-870f-91cde6600daa",
   "metadata": {},
   "outputs": [],
   "source": []
  }
 ],
 "metadata": {
  "kernelspec": {
   "display_name": "Python 3 (ipykernel)",
   "language": "python",
   "name": "python3"
  },
  "language_info": {
   "codemirror_mode": {
    "name": "ipython",
    "version": 3
   },
   "file_extension": ".py",
   "mimetype": "text/x-python",
   "name": "python",
   "nbconvert_exporter": "python",
   "pygments_lexer": "ipython3",
   "version": "3.12.7"
  }
 },
 "nbformat": 4,
 "nbformat_minor": 5
}
