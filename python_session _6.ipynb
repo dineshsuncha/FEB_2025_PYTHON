{
 "cells": [
  {
   "cell_type": "markdown",
   "id": "f102159a-d02f-4718-bc1e-88f821c1eb33",
   "metadata": {},
   "source": [
    "- Generally if you observe any application\n",
    "\n",
    "- user will provide the values\n",
    "\n",
    "- backend some programming language will work\n",
    "\n",
    "- if any code the values we give is called hard code\n",
    "\n",
    "- always the code should be generic\n",
    "\n",
    "- in python the user can provide the values from keyboard using input\n"
   ]
  },
  {
   "cell_type": "code",
   "execution_count": 2,
   "id": "03716037-ff58-4b5f-9583-fae1f7008399",
   "metadata": {},
   "outputs": [
    {
     "name": "stdin",
     "output_type": "stream",
     "text": [
      " 30\n"
     ]
    },
    {
     "data": {
      "text/plain": [
       "'30'"
      ]
     },
     "execution_count": 2,
     "metadata": {},
     "output_type": "execute_result"
    }
   ],
   "source": [
    "input()"
   ]
  },
  {
   "cell_type": "code",
   "execution_count": null,
   "id": "1579ded9-aef0-4770-b4ec-87d8650ab6dc",
   "metadata": {},
   "outputs": [],
   "source": [
    "a=10"
   ]
  },
  {
   "cell_type": "markdown",
   "id": "d5057be7-81df-40bb-8881-8849d37bfa93",
   "metadata": {},
   "source": [
    "input()\n",
    "input()\n",
    "input()"
   ]
  },
  {
   "cell_type": "code",
   "execution_count": null,
   "id": "2debdfc5-7a2d-43b7-8652-3ddfe90d0680",
   "metadata": {},
   "outputs": [],
   "source": []
  },
  {
   "cell_type": "code",
   "execution_count": 2,
   "id": "28103be0-6215-4383-ab93-83c2aa58803e",
   "metadata": {},
   "outputs": [
    {
     "name": "stdin",
     "output_type": "stream",
     "text": [
      "enter a number1: 40\n"
     ]
    },
    {
     "data": {
      "text/plain": [
       "'40'"
      ]
     },
     "execution_count": 2,
     "metadata": {},
     "output_type": "execute_result"
    }
   ],
   "source": [
    "input ('enter a number1:')"
   ]
  },
  {
   "cell_type": "code",
   "execution_count": 3,
   "id": "d92e1897-d18b-4aea-a6d5-e5109a615780",
   "metadata": {},
   "outputs": [
    {
     "name": "stdin",
     "output_type": "stream",
     "text": [
      "enter your name: dinesh\n",
      "enter age: 20\n",
      "enter city: wgl\n"
     ]
    },
    {
     "data": {
      "text/plain": [
       "'wgl'"
      ]
     },
     "execution_count": 3,
     "metadata": {},
     "output_type": "execute_result"
    }
   ],
   "source": [
    "input('enter your name:')\n",
    "input('enter age:')\n",
    "input('enter city:')"
   ]
  },
  {
   "cell_type": "code",
   "execution_count": 4,
   "id": "ebff0b9e-4df4-40ff-98a9-c52c8e10958c",
   "metadata": {},
   "outputs": [
    {
     "data": {
      "text/plain": [
       "30"
      ]
     },
     "execution_count": 4,
     "metadata": {},
     "output_type": "execute_result"
    }
   ],
   "source": [
    "a=10\n",
    "b=20\n",
    "a+b"
   ]
  },
  {
   "cell_type": "code",
   "execution_count": 1,
   "id": "7f80ef52-e222-4efe-a1eb-3c72fd37cb72",
   "metadata": {},
   "outputs": [
    {
     "name": "stdin",
     "output_type": "stream",
     "text": [
      "enter value1: 100\n",
      "enter value2: 200\n"
     ]
    },
    {
     "data": {
      "text/plain": [
       "'100200'"
      ]
     },
     "execution_count": 1,
     "metadata": {},
     "output_type": "execute_result"
    }
   ],
   "source": [
    "a=input('enter value1:')\n",
    "b=input('enter value2:')\n",
    "a+b"
   ]
  },
  {
   "cell_type": "code",
   "execution_count": 2,
   "id": "9e729509-1cab-4596-a3c3-7b5268e75d6c",
   "metadata": {},
   "outputs": [
    {
     "name": "stdin",
     "output_type": "stream",
     "text": [
      "enter value1: 100\n",
      "enter value2: 200\n"
     ]
    },
    {
     "data": {
      "text/plain": [
       "300"
      ]
     },
     "execution_count": 2,
     "metadata": {},
     "output_type": "execute_result"
    }
   ],
   "source": [
    "a=int(input('enter value1:'))\n",
    "b=int(input('enter value2:'))\n",
    "a+b"
   ]
  },
  {
   "cell_type": "code",
   "execution_count": 5,
   "id": "e6477aff-f4f1-4576-9074-c57602c9f89a",
   "metadata": {},
   "outputs": [
    {
     "name": "stdin",
     "output_type": "stream",
     "text": [
      "enter a number: 100\n",
      "enter a number2: 200\n"
     ]
    },
    {
     "data": {
      "text/plain": [
       "300"
      ]
     },
     "execution_count": 5,
     "metadata": {},
     "output_type": "execute_result"
    }
   ],
   "source": [
    "n1=int(input(\"enter a number:\"))\n",
    "n2=int(input(\"enter a number2:\"))\n",
    "n1+n2"
   ]
  },
  {
   "cell_type": "code",
   "execution_count": 7,
   "id": "9ee605e4-c2ab-4475-84c8-2bcbad810236",
   "metadata": {},
   "outputs": [
    {
     "name": "stdin",
     "output_type": "stream",
     "text": [
      "enter a n1: 100\n",
      "enter a n2: 200\n"
     ]
    },
    {
     "data": {
      "text/plain": [
       "100200"
      ]
     },
     "execution_count": 7,
     "metadata": {},
     "output_type": "execute_result"
    }
   ],
   "source": [
    "n1=input(\"enter a n1:\")\n",
    "n2=input(\"enter a n2:\")\n",
    "add=int(n1+n2)\n",
    "add"
   ]
  },
  {
   "cell_type": "code",
   "execution_count": null,
   "id": "8203173e-9dbd-4eff-bee8-82b50e60fab8",
   "metadata": {},
   "outputs": [],
   "source": []
  },
  {
   "cell_type": "code",
   "execution_count": null,
   "id": "dc9fadc1-fb83-4a9a-a538-3e3867700929",
   "metadata": {},
   "outputs": [],
   "source": []
  },
  {
   "cell_type": "markdown",
   "id": "76c852da-0782-4e9d-9a9f-84a7de91697c",
   "metadata": {},
   "source": [
    "**eval**\n",
    "\n",
    "- Whenever we listen about eval it represents math term **evaluate**\n",
    "- instead of focas on int and float every time\n",
    "- simply use **eval**conversion always\n",
    "- if you apply eval it will cinvert the value based on baser data type\n",
    "- if user will provive the integer, it will convert into integer value\n",
    "- if user will provide the float, it will convert into floatr value\n",
    "- if user will provide the string, it will give the error"
   ]
  },
  {
   "cell_type": "code",
   "execution_count": null,
   "id": "295c2462-4071-4da1-960a-03c701cddeb9",
   "metadata": {},
   "outputs": [],
   "source": [
    "n1=eval(input(\"enter a number1\"))\n",
    "n2=eval(input(\"enter a number2\"))\n",
    "n3=n1+n2\n",
    "print(f\"enter)"
   ]
  },
  {
   "cell_type": "code",
   "execution_count": 22,
   "id": "791de8cd-0c92-4929-832a-ccecb0f5466b",
   "metadata": {},
   "outputs": [
    {
     "name": "stdin",
     "output_type": "stream",
     "text": [
      "enter the value for n1: 6\n",
      "enter the value for n2: 4\n",
      "enter the value for n3: 8\n"
     ]
    },
    {
     "ename": "NameError",
     "evalue": "name 'avg' is not defined",
     "output_type": "error",
     "traceback": [
      "\u001b[1;31m---------------------------------------------------------------------------\u001b[0m",
      "\u001b[1;31mNameError\u001b[0m                                 Traceback (most recent call last)",
      "Cell \u001b[1;32mIn[22], line 5\u001b[0m\n\u001b[0;32m      3\u001b[0m n3\u001b[38;5;241m=\u001b[39m\u001b[38;5;28meval\u001b[39m(\u001b[38;5;28minput\u001b[39m(\u001b[38;5;124m\"\u001b[39m\u001b[38;5;124menter the value for n3:\u001b[39m\u001b[38;5;124m\"\u001b[39m))\n\u001b[0;32m      4\u001b[0m n4\u001b[38;5;241m=\u001b[39m(n1\u001b[38;5;241m+\u001b[39mn2\u001b[38;5;241m+\u001b[39mn3)\u001b[38;5;241m/\u001b[39m\u001b[38;5;241m3\u001b[39m\n\u001b[1;32m----> 5\u001b[0m avg\u001b[38;5;241m=\u001b[39m\u001b[38;5;28mround\u001b[39m(avg,\u001b[38;5;241m2\u001b[39m)\n\u001b[0;32m      6\u001b[0m \u001b[38;5;28mprint\u001b[39m(\u001b[38;5;124mf\u001b[39m\u001b[38;5;124m'\u001b[39m\u001b[38;5;124mthe average of \u001b[39m\u001b[38;5;132;01m{\u001b[39;00mn1\u001b[38;5;132;01m}\u001b[39;00m\u001b[38;5;124m,\u001b[39m\u001b[38;5;132;01m{\u001b[39;00mn2\u001b[38;5;132;01m}\u001b[39;00m\u001b[38;5;124mand\u001b[39m\u001b[38;5;132;01m{\u001b[39;00mn3\u001b[38;5;132;01m}\u001b[39;00m\u001b[38;5;124m is\u001b[39m\u001b[38;5;132;01m{\u001b[39;00mn4\u001b[38;5;132;01m}\u001b[39;00m\u001b[38;5;124m'\u001b[39m)\n",
      "\u001b[1;31mNameError\u001b[0m: name 'avg' is not defined"
     ]
    }
   ],
   "source": [
    "n1=eval(input(\"enter the value for n1:\"))\n",
    "n2=eval(input(\"enter the value for n2:\"))\n",
    "n3=eval(input(\"enter the value for n3:\"))\n",
    "n4=(n1+n2+n3)/3\n",
    "avg=round(avg,2)\n",
    "print(f'the average of {n1},{n2}and{n3} is{n4}')"
   ]
  },
  {
   "cell_type": "code",
   "execution_count": 16,
   "id": "752a2699-e5e7-470b-8d43-354615d51679",
   "metadata": {},
   "outputs": [
    {
     "data": {
      "text/plain": [
       "31"
      ]
     },
     "execution_count": 16,
     "metadata": {},
     "output_type": "execute_result"
    }
   ],
   "source": [
    "round(30.789444)"
   ]
  },
  {
   "cell_type": "code",
   "execution_count": 1,
   "id": "a72e198a-29dd-429f-bf50-34ee9ce54d61",
   "metadata": {},
   "outputs": [
    {
     "name": "stdin",
     "output_type": "stream",
     "text": [
      "enter the number n1: 40\n",
      "enter the number n2: 70\n",
      "enter the number n3: 99\n"
     ]
    },
    {
     "name": "stdout",
     "output_type": "stream",
     "text": [
      "the average of 40,70,and 99 is 143.0.\n"
     ]
    }
   ],
   "source": [
    "# wap ask the user take three numbersfrom keyboard and print average\n",
    "n1= eval(input('enter the number n1:'))\n",
    "n2= eval(input('enter the number n2:'))\n",
    "n3= eval(input('enter the number n3:'))\n",
    "print(f'the average of {n1},{n2},and {n3} is {n1+n2+n3/3}.')"
   ]
  },
  {
   "cell_type": "code",
   "execution_count": 5,
   "id": "8bfada72-defb-42d4-9997-f492105fd209",
   "metadata": {},
   "outputs": [
    {
     "name": "stdin",
     "output_type": "stream",
     "text": [
      "Enter the breadth of the triangle:  3\n",
      "Enter the height of the triangle:  2\n"
     ]
    },
    {
     "name": "stdout",
     "output_type": "stream",
     "text": [
      "The area of the right-angle triangle is: 3.0\n"
     ]
    }
   ],
   "source": [
    "breadth = eval(input(\"Enter the breadth of the triangle: \"))\n",
    "height = eval(input(\"Enter the height of the triangle: \"))\n",
    "area = (1/2) * breadth * height\n",
    "print(f\"The area of the right-angle triangle is: {area}\")\n"
   ]
  },
  {
   "cell_type": "code",
   "execution_count": 3,
   "id": "1ba11b42-8b5e-4e31-ac83-6b9c5e8534b8",
   "metadata": {},
   "outputs": [
    {
     "name": "stdin",
     "output_type": "stream",
     "text": [
      "enter the radius 7\n"
     ]
    },
    {
     "name": "stdout",
     "output_type": "stream",
     "text": [
      "the area of circle is:153.86\n"
     ]
    }
   ],
   "source": [
    "# wap ask the user take the radius from keyboard\n",
    "# calculate the area of circle\n",
    "   #fromula = pi*r*r   pi=3.14\n",
    "radius=eval(input(\"enter the radius\"))\n",
    "pi=3.14\n",
    "area=pi*radius*radius\n",
    "print(f\"the area of circle is:{area}\")"
   ]
  },
  {
   "cell_type": "code",
   "execution_count": 7,
   "id": "b031dadc-4c24-46a5-ae16-74375152eb81",
   "metadata": {},
   "outputs": [
    {
     "name": "stdin",
     "output_type": "stream",
     "text": [
      "enter the bill amount: 2500\n",
      "enter the tip amount: 100\n"
     ]
    },
    {
     "name": "stdout",
     "output_type": "stream",
     "text": [
      "the total bill is :2600\n"
     ]
    }
   ],
   "source": [
    "# wap ask the user enter the bill amount\n",
    "# ask the user provide how much tip amount wants to give \n",
    "# calculate the total bill.\n",
    "bill_amount=eval(input(\"enter the bill amount:\"))\n",
    "tip_amount=eval(input(\"enter the tip amount:\"))\n",
    "total_bill=bill_amount+tip_amount\n",
    "print(f\"the total bill is :{total_bill}\")"
   ]
  },
  {
   "cell_type": "code",
   "execution_count": 9,
   "id": "fdcd1a20-936b-4217-acb9-6ac3f3214bb7",
   "metadata": {},
   "outputs": [
    {
     "name": "stdin",
     "output_type": "stream",
     "text": [
      "enter the bill_amount: 2700\n",
      "enteer the tip_percent: 10\n"
     ]
    },
    {
     "name": "stdout",
     "output_type": "stream",
     "text": [
      "the total bill is:2970.0\n"
     ]
    }
   ],
   "source": [
    "# wap ask user to enter the bill amount\n",
    "#ask the user how much tip percent he wants to give \n",
    "#calculate the total amount bill.\n",
    "bill_amount=eval(input(\"enter the bill_amount:\"))\n",
    "tip_percent=eval(input(\"enteer the tip_percent:\"))\n",
    "tip_amount=bill_amount*tip_percent/100\n",
    "total_bill=bill_amount+tip_amount\n",
    "print(f\"the total bill is:{total_bill}\")"
   ]
  },
  {
   "cell_type": "code",
   "execution_count": null,
   "id": "83048514-a90f-4035-bd81-1998fc544d37",
   "metadata": {},
   "outputs": [],
   "source": [
    "# father and son\n",
    "# son has written the exam\n",
    "# the result got out\n",
    "# father percentage of marks to the son\n",
    "# so son says dad i will give the marks\n",
    "# you calculate percentage\n",
    "\n",
    "\n",
    "# father:hey beta\n",
    "# son: hai papa\n",
    "# father: I heard your result came out\n",
    "# son :yes dad\n",
    "# father: great! how much percentage we got\n",
    "# son: i will tell the sub marks you tell me percentage\n",
    "# f: wow thats super game,lets start"
   ]
  },
  {
   "cell_type": "code",
   "execution_count": null,
   "id": "3d3b41b5-0406-4c40-890f-b17d35b9c98a",
   "metadata": {},
   "outputs": [
    {
     "name": "stdin",
     "output_type": "stream",
     "text": [
      "father: hey beta\n",
      "son: hai papa\n",
      "father:  I heard your result came out\n",
      "Son: yes dad\n",
      "Father: great! how much percentage we got\n",
      "Son:  i will tell the sub marks you tell me percentage\n",
      "Father: wow thats super game,lets start\n",
      "Telugu Marks: 787\n"
     ]
    }
   ],
   "source": [
    "input('father:')\n",
    "input('son:')\n",
    "input('father:')\n",
    "input('Son:')\n",
    "input('Father:')\n",
    "input('Son:')\n",
    "input('Father:')\n",
    "Telugu=eval(input(\"Telugu Marks:\"))\n",
    "Hindi=eval(input(\"Hindi Marks:\"))\n",
    "English=eval(input(\"English Marks:\"))\n",
    "Maths=eval(input(\"Maths Marks:56\"))\n",
    "Science=eval(input(\"Science Marks:\"))\n",
    "Social=eval(input(\"Social Marks:\"))\n",
    "\n",
    "Percentage=(Telugu+Hindi+English+Maths+Science+Social)/600*100\n",
    "\n",
    "print (f'Father: yor percent is {percentage}')"
   ]
  },
  {
   "cell_type": "code",
   "execution_count": null,
   "id": "a4b3d31f-5a1e-4da6-a3b8-3f004fbb3100",
   "metadata": {},
   "outputs": [],
   "source": []
  },
  {
   "cell_type": "code",
   "execution_count": null,
   "id": "6fd9d67f-74db-4b34-857e-9ff3f6482b15",
   "metadata": {},
   "outputs": [],
   "source": []
  }
 ],
 "metadata": {
  "kernelspec": {
   "display_name": "Python 3 (ipykernel)",
   "language": "python",
   "name": "python3"
  },
  "language_info": {
   "codemirror_mode": {
    "name": "ipython",
    "version": 3
   },
   "file_extension": ".py",
   "mimetype": "text/x-python",
   "name": "python",
   "nbconvert_exporter": "python",
   "pygments_lexer": "ipython3",
   "version": "3.12.7"
  }
 },
 "nbformat": 4,
 "nbformat_minor": 5
}
