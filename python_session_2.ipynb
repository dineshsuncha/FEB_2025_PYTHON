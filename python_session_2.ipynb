{
 "cells": [
  {
   "cell_type": "markdown",
   "id": "efc33ce6-d752-4267-be10-c2ba27501f91",
   "metadata": {},
   "source": [
    "**VARIABLES**"
   ]
  },
  {
   "cell_type": "markdown",
   "id": "fd727233-b42a-486d-b3f2-cdc533e82a4f",
   "metadata": {},
   "source": [
    "Variables are used to store the values, and the values can be change"
   ]
  },
  {
   "cell_type": "code",
   "execution_count": 10,
   "id": "be7c1654-1073-49a9-8292-b4e41ba39eca",
   "metadata": {},
   "outputs": [
    {
     "name": "stdout",
     "output_type": "stream",
     "text": [
      "100\n"
     ]
    }
   ],
   "source": [
    "num=100\n",
    "print(num)"
   ]
  },
  {
   "cell_type": "code",
   "execution_count": 14,
   "id": "df5102b2-e3cb-4293-badc-17326bb41265",
   "metadata": {},
   "outputs": [
    {
     "name": "stdout",
     "output_type": "stream",
     "text": [
      "200\n"
     ]
    }
   ],
   "source": [
    "num=200\n",
    "print(num)"
   ]
  },
  {
   "cell_type": "code",
   "execution_count": 16,
   "id": "97705be1-cbb5-4864-858f-a28d7c5c8f43",
   "metadata": {},
   "outputs": [
    {
     "data": {
      "text/plain": [
       "200"
      ]
     },
     "execution_count": 16,
     "metadata": {},
     "output_type": "execute_result"
    }
   ],
   "source": [
    "NUMBER=200\n",
    "NUMBER"
   ]
  },
  {
   "cell_type": "code",
   "execution_count": 20,
   "id": "f250a7af-fb28-4ac1-91b7-0cda8722f8d0",
   "metadata": {},
   "outputs": [
    {
     "data": {
      "text/plain": [
       "300"
      ]
     },
     "execution_count": 20,
     "metadata": {},
     "output_type": "execute_result"
    }
   ],
   "source": [
    "number=300\n",
    "number"
   ]
  },
  {
   "cell_type": "code",
   "execution_count": 22,
   "id": "2f2695ea-b38c-40c2-b5b1-03ea575f9309",
   "metadata": {},
   "outputs": [
    {
     "data": {
      "text/plain": [
       "(300, 200)"
      ]
     },
     "execution_count": 22,
     "metadata": {},
     "output_type": "execute_result"
    }
   ],
   "source": [
    "number,NUMBER"
   ]
  },
  {
   "cell_type": "code",
   "execution_count": 26,
   "id": "1e077480-6b22-4ae0-b9d4-edb94023be58",
   "metadata": {},
   "outputs": [
    {
     "data": {
      "text/plain": [
       "500"
      ]
     },
     "execution_count": 26,
     "metadata": {},
     "output_type": "execute_result"
    }
   ],
   "source": [
    "number123=500\n",
    "number123\n"
   ]
  },
  {
   "cell_type": "code",
   "execution_count": 30,
   "id": "82e9f1e1-73f0-4f3a-b15f-97844e2a9fa7",
   "metadata": {},
   "outputs": [
    {
     "ename": "SyntaxError",
     "evalue": "invalid decimal literal (359278068.py, line 1)",
     "output_type": "error",
     "traceback": [
      "\u001b[1;36m  Cell \u001b[1;32mIn[30], line 1\u001b[1;36m\u001b[0m\n\u001b[1;33m    123number=400\u001b[0m\n\u001b[1;37m      ^\u001b[0m\n\u001b[1;31mSyntaxError\u001b[0m\u001b[1;31m:\u001b[0m invalid decimal literal\n"
     ]
    }
   ],
   "source": [
    "123number=400\n",
    "123number"
   ]
  },
  {
   "cell_type": "markdown",
   "id": "10f3cd06-c8a0-436b-8ef3-efd8a4107504",
   "metadata": {},
   "source": [
    "- number # works\n",
    "- NUMBER # WORKS\n",
    "- number123 #works\n",
    "- 123number # NOT WORKS"
   ]
  },
  {
   "cell_type": "code",
   "execution_count": 34,
   "id": "f8abdac2-bba1-4a2d-a396-a06a5d4d178d",
   "metadata": {},
   "outputs": [
    {
     "data": {
      "text/plain": [
       "1000"
      ]
     },
     "execution_count": 34,
     "metadata": {},
     "output_type": "execute_result"
    }
   ],
   "source": [
    "NUMBER_ONE=1000\n",
    "NUMBER_ONE"
   ]
  },
  {
   "cell_type": "markdown",
   "id": "8b9daf57-090d-4f10-9484-0a71166b659b",
   "metadata": {},
   "source": [
    "- number # works\n",
    "- NUMBER # WORKS\n",
    "- number123 #works\n",
    "- 123number # NOT WORKS\n",
    "- number$one # NOT WORKS\n",
    "- number&one #NW\n",
    "- number*one #NW\n",
    "- NUMBER_ONE # WORKS\n",
    "- number_one #works\n",
    "- number one #NW\n",
    "\n"
   ]
  },
  {
   "cell_type": "code",
   "execution_count": 37,
   "id": "07f5ec46-2a3f-463f-b0ca-b1e8000617df",
   "metadata": {},
   "outputs": [
    {
     "ename": "SyntaxError",
     "evalue": "invalid syntax (1816561334.py, line 1)",
     "output_type": "error",
     "traceback": [
      "\u001b[1;36m  Cell \u001b[1;32mIn[37], line 1\u001b[1;36m\u001b[0m\n\u001b[1;33m    if=690\u001b[0m\n\u001b[1;37m      ^\u001b[0m\n\u001b[1;31mSyntaxError\u001b[0m\u001b[1;31m:\u001b[0m invalid syntax\n"
     ]
    }
   ],
   "source": [
    "if=690\n",
    "if"
   ]
  },
  {
   "cell_type": "markdown",
   "id": "3344f380-b5ef-4a50-8f1e-4c2b8c3333f9",
   "metadata": {},
   "source": [
    "- if\n",
    "- else\n",
    "- true \n",
    "- false\n",
    "- for \n",
    "- while"
   ]
  },
  {
   "cell_type": "markdown",
   "id": "2ed1983b-868e-46a0-8bff-a8511555ee87",
   "metadata": {},
   "source": []
  },
  {
   "cell_type": "markdown",
   "id": "b9c970b7-b1ee-4780-8ff5-72d8bf5bebdd",
   "metadata": {},
   "source": [
    "- variables can be capital letters\n",
    "- variables can be a small letters\n",
    "- variables can be a mix of both captial and small letters\n",
    "- variables can be a mix of letters and numbers as suffix\n",
    "- variables can not be a mix of letters and numbers as prefix \n",
    "- variables can not be include special characters except underscore\n",
    "- variables can not be concider as variables"
   ]
  },
  {
   "cell_type": "code",
   "execution_count": null,
   "id": "bdf84ab1-0016-47e5-a8b8-1426915c7b84",
   "metadata": {},
   "outputs": [],
   "source": [
    "-="
   ]
  },
  {
   "cell_type": "code",
   "execution_count": null,
   "id": "f184905f-65e7-4138-82b5-b49ec94b1b8b",
   "metadata": {},
   "outputs": [],
   "source": []
  },
  {
   "cell_type": "code",
   "execution_count": null,
   "id": "c66c9c25-a1d3-4519-b3bd-24c417071ee5",
   "metadata": {},
   "outputs": [],
   "source": []
  },
  {
   "cell_type": "code",
   "execution_count": null,
   "id": "d589ae81-31a3-4459-acf1-b7dd9bc39c37",
   "metadata": {},
   "outputs": [],
   "source": []
  }
 ],
 "metadata": {
  "kernelspec": {
   "display_name": "Python 3 (ipykernel)",
   "language": "python",
   "name": "python3"
  },
  "language_info": {
   "codemirror_mode": {
    "name": "ipython",
    "version": 3
   },
   "file_extension": ".py",
   "mimetype": "text/x-python",
   "name": "python",
   "nbconvert_exporter": "python",
   "pygments_lexer": "ipython3",
   "version": "3.12.7"
  }
 },
 "nbformat": 4,
 "nbformat_minor": 5
}
