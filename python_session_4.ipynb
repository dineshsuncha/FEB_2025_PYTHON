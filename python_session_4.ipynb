{
 "cells": [
  {
   "cell_type": "markdown",
   "id": "650ffc96-ccec-4aeb-a43d-9e02be5e8492",
   "metadata": {},
   "source": [
    "**Typer cast**"
   ]
  },
  {
   "cell_type": "markdown",
   "id": "cf89f002-6d44-47ee-9537-d61cbc67dc4f",
   "metadata": {},
   "source": [
    "- changing one data type to another data type\n",
    "- int to float\n",
    "- int to str\n",
    "- int to bool"
   ]
  },
  {
   "cell_type": "markdown",
   "id": "4325b486-6a6d-4170-a540-7839dd918577",
   "metadata": {},
   "source": [
    "# int to float \n",
    "float_number=float(number)\n"
   ]
  },
  {
   "cell_type": "code",
   "execution_count": null,
   "id": "d6e06702-8f81-4911-848a-45ce6c3ca443",
   "metadata": {},
   "outputs": [],
   "source": [
    "int('10') # work\n",
    "int('10.5') # fail"
   ]
  },
  {
   "cell_type": "code",
   "execution_count": 3,
   "id": "54b62246-e6b0-49d7-83e3-cbef5d572813",
   "metadata": {},
   "outputs": [
    {
     "data": {
      "text/plain": [
       "10.5"
      ]
     },
     "execution_count": 3,
     "metadata": {},
     "output_type": "execute_result"
    }
   ],
   "source": [
    "float('10')\n",
    "float('10.5')"
   ]
  },
  {
   "cell_type": "markdown",
   "id": "9a6ab937-04bd-4ee1-9c5c-d3821212c518",
   "metadata": {},
   "source": [
    "**note**"
   ]
  },
  {
   "cell_type": "markdown",
   "id": "0d89d6d7-6e8f-4341-aac3-4bac580d8af4",
   "metadata": {},
   "source": [
    "- boolean conversion of any integer value other than zero boolean\n",
    "- boolean conversion of zero is false"
   ]
  },
  {
   "cell_type": "code",
   "execution_count": 3,
   "id": "4644d4b3-49e8-4f45-863c-c2a265f3f64f",
   "metadata": {},
   "outputs": [
    {
     "name": "stdout",
     "output_type": "stream",
     "text": [
      "-100\n",
      "-100.25\n",
      "True\n"
     ]
    }
   ],
   "source": [
    "print(int(-100.25))\n",
    "print(str(-100.25))\n",
    "print(bool(100.25))"
   ]
  },
  {
   "cell_type": "markdown",
   "id": "531c08ab-7eb6-46bb-a907-ee44cdd56055",
   "metadata": {},
   "source": [
    "**string to other data types**"
   ]
  },
  {
   "cell_type": "code",
   "execution_count": null,
   "id": "3d0adbe0-840a-4483-ba02-8718f722d1e0",
   "metadata": {},
   "outputs": [],
   "source": [
    "bool(10) # T\n",
    "bool('10.5') # T\n",
    "bool('10') # T\n",
    "bool(10.5) # T\n",
    "bool(0) # F\n",
    "bool(0.0) # F\n",
    "bool('0') # T\n",
    "bool('0.0') # T\n",
    "bool('apple') # T\n",
    "bool('') # F"
   ]
  },
  {
   "cell_type": "code",
   "execution_count": null,
   "id": "e575e123-015c-44bd-975e-ea7b749281ac",
   "metadata": {},
   "outputs": [],
   "source": []
  }
 ],
 "metadata": {
  "kernelspec": {
   "display_name": "Python 3 (ipykernel)",
   "language": "python",
   "name": "python3"
  },
  "language_info": {
   "codemirror_mode": {
    "name": "ipython",
    "version": 3
   },
   "file_extension": ".py",
   "mimetype": "text/x-python",
   "name": "python",
   "nbconvert_exporter": "python",
   "pygments_lexer": "ipython3",
   "version": "3.12.7"
  }
 },
 "nbformat": 4,
 "nbformat_minor": 5
}
