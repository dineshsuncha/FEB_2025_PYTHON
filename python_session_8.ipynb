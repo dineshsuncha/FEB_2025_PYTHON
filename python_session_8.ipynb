{
 "cells": [
  {
   "cell_type": "markdown",
   "id": "b8c1f65d-3a69-47ec-8dcd-96fb62ffb85d",
   "metadata": {},
   "source": [
    "- conditional statements refers to execute the code based on some conditions\n",
    "\n",
    "- we have mainly three types\n",
    "\n",
    "    - if\n",
    "\n",
    "    - if else\n",
    "\n",
    "    - if elif else"
   ]
  },
  {
   "cell_type": "code",
   "execution_count": null,
   "id": "a0b7cfff-b4be-4c00-bd3a-e6b0d702b0bc",
   "metadata": {},
   "outputs": [],
   "source": [
    "print()"
   ]
  },
  {
   "cell_type": "markdown",
   "id": "179ad55f-e36d-44fe-a3c9-0f8785fd5fb0",
   "metadata": {},
   "source": [
    "**syntax**"
   ]
  },
  {
   "cell_type": "code",
   "execution_count": null,
   "id": "add1a7ef-c27e-4d95-a10b-a8f1f9d6c5eb",
   "metadata": {},
   "outputs": [],
   "source": [
    "if <condition>:\n",
    "    <write your code here>"
   ]
  },
  {
   "cell_type": "code",
   "execution_count": 9,
   "id": "79d419b4-5522-4d88-b7b3-7cefee37399b",
   "metadata": {},
   "outputs": [
    {
     "name": "stdout",
     "output_type": "stream",
     "text": [
      "correct condition\n",
      "hello\n"
     ]
    }
   ],
   "source": [
    "num=10\n",
    "if num>0: # 10>0  true   if true\n",
    "    print('correct condition')\n",
    "    print('hello')"
   ]
  },
  {
   "cell_type": "code",
   "execution_count": 13,
   "id": "b20b8422-2523-4389-9a55-28ba0a0399f0",
   "metadata": {},
   "outputs": [
    {
     "name": "stdout",
     "output_type": "stream",
     "text": [
      "correct condition\n"
     ]
    }
   ],
   "source": [
    "num=10\n",
    "if num>0: # 10>0  true   if true\n",
    "    print('correct condition')"
   ]
  },
  {
   "cell_type": "markdown",
   "id": "0d53f985-e388-4db7-99e0-fc44d155a2e5",
   "metadata": {},
   "source": [
    "- we can write any condition\n",
    "\n",
    "- the condition should be valid\n",
    "\n",
    "- in order to execute the if statement"
   ]
  },
  {
   "cell_type": "code",
   "execution_count": null,
   "id": "143a5204-407f-4461-b395-1c913b913900",
   "metadata": {},
   "outputs": [],
   "source": [
    "if <condition>:\n",
    "    <code starts here>\n",
    "\n",
    "#the space we need to maintain it is called as indentation"
   ]
  },
  {
   "cell_type": "code",
   "execution_count": 5,
   "id": "ff448617-b6ce-4354-b957-e7e4c9dc9e30",
   "metadata": {},
   "outputs": [
    {
     "data": {
      "text/plain": [
       "True"
      ]
     },
     "execution_count": 5,
     "metadata": {},
     "output_type": "execute_result"
    }
   ],
   "source": [
    "name='python'\n",
    "name=='python'"
   ]
  },
  {
   "cell_type": "code",
   "execution_count": 7,
   "id": "643643db-5b46-4859-bb0e-a1a9f62373d1",
   "metadata": {},
   "outputs": [
    {
     "data": {
      "text/plain": [
       "False"
      ]
     },
     "execution_count": 7,
     "metadata": {},
     "output_type": "execute_result"
    }
   ],
   "source": [
    "name!='python'"
   ]
  },
  {
   "cell_type": "code",
   "execution_count": 9,
   "id": "57271e9c-2be4-4c33-99f0-b3dad97d2f39",
   "metadata": {},
   "outputs": [
    {
     "name": "stdout",
     "output_type": "stream",
     "text": [
      "hello\n",
      "30\n"
     ]
    }
   ],
   "source": [
    "name='python'\n",
    "if name=='python':\n",
    "    print('hello')\n",
    "    a=10\n",
    "    b=20\n",
    "    print(a+b)\n",
    "\n",
    "# step-1:  name='python'\n",
    "# step-2:  if name=='python'  if 'python'  if true\n",
    "# step-3:  print hello\n",
    "# step-4:  a=10\n",
    "# step-5:  b=20\n",
    "# step-6: a+b   10+20=30"
   ]
  },
  {
   "cell_type": "code",
   "execution_count": 13,
   "id": "2eae5af8-b488-4bf2-80b2-81568e7cd320",
   "metadata": {},
   "outputs": [
    {
     "name": "stdout",
     "output_type": "stream",
     "text": [
      "correct\n",
      "bye\n"
     ]
    }
   ],
   "source": [
    "############################\n",
    "if 100>10:\n",
    "    print('correct')\n",
    "#############################\n",
    "print('bye')"
   ]
  },
  {
   "cell_type": "code",
   "execution_count": 17,
   "id": "d3c7b50b-3709-459f-8ee9-cc3281570a45",
   "metadata": {},
   "outputs": [
    {
     "name": "stdout",
     "output_type": "stream",
     "text": [
      "hai\n"
     ]
    }
   ],
   "source": [
    "############################\n",
    "if 100<10:\n",
    "    print('hello')\n",
    "print('hai')"
   ]
  },
  {
   "cell_type": "code",
   "execution_count": 19,
   "id": "23214a83-e37e-4cfe-bbda-4dac990d08a9",
   "metadata": {},
   "outputs": [
    {
     "name": "stdout",
     "output_type": "stream",
     "text": [
      "hai\n",
      "hello\n",
      "hiii\n"
     ]
    }
   ],
   "source": [
    "print('hai')\n",
    "#######################\n",
    "if 100>10:\n",
    "    print('hello')\n",
    "print('hiii')"
   ]
  },
  {
   "cell_type": "markdown",
   "id": "c635acca-ea92-40b6-932d-868a86a5c00f",
   "metadata": {},
   "source": [
    "**IF-ELSe**\n",
    "\n",
    "- whenever if condition fails automatically it goes to else part\n",
    "\n",
    "- so else does not require any condition\n",
    "\n",
    "- always maintain indentation for both if part and else part"
   ]
  },
  {
   "cell_type": "code",
   "execution_count": 25,
   "id": "ae1ee8f1-44ac-4a39-a138-4794c5ecaa3d",
   "metadata": {},
   "outputs": [
    {
     "name": "stdout",
     "output_type": "stream",
     "text": [
      "correct condition\n"
     ]
    }
   ],
   "source": [
    "if 100>10:\n",
    "    print('correct condition')\n",
    "else:\n",
    "    print('wrong condition')"
   ]
  },
  {
   "cell_type": "code",
   "execution_count": 31,
   "id": "321e2b0f-7bcc-4576-89ea-b75dc88abba9",
   "metadata": {},
   "outputs": [
    {
     "name": "stdout",
     "output_type": "stream",
     "text": [
      "10\n",
      "correct condition\n",
      "20\n"
     ]
    }
   ],
   "source": [
    "print(10)\n",
    "if 100>10:\n",
    "    print('correct condition')\n",
    "else:\n",
    "    print('wrong condition')\n",
    "print(20)"
   ]
  },
  {
   "cell_type": "code",
   "execution_count": 27,
   "id": "844a3f4b-ecd5-4924-8a8c-be1cc0cd2fca",
   "metadata": {},
   "outputs": [
    {
     "ename": "SyntaxError",
     "evalue": "invalid syntax (2998936980.py, line 5)",
     "output_type": "error",
     "traceback": [
      "\u001b[1;36m  Cell \u001b[1;32mIn[27], line 5\u001b[1;36m\u001b[0m\n\u001b[1;33m    else:\u001b[0m\n\u001b[1;37m    ^\u001b[0m\n\u001b[1;31mSyntaxError\u001b[0m\u001b[1;31m:\u001b[0m invalid syntax\n"
     ]
    }
   ],
   "source": [
    "print(10)\n",
    "if 100>10:\n",
    "    print('correct condition')\n",
    "print('why are you come in middile')\n",
    "else:\n",
    "    print('wrong condition')\n",
    "print(20)"
   ]
  },
  {
   "cell_type": "markdown",
   "id": "faf80c25-fea2-43d8-a1fd-50973b0dbac7",
   "metadata": {},
   "source": [
    "**if and else always together**"
   ]
  },
  {
   "cell_type": "code",
   "execution_count": 40,
   "id": "187c02f7-c61a-4893-876b-be978bf0f84f",
   "metadata": {},
   "outputs": [
    {
     "name": "stdin",
     "output_type": "stream",
     "text": [
      "enter the num1: 3\n",
      "enter the num2: 3\n"
     ]
    },
    {
     "name": "stdout",
     "output_type": "stream",
     "text": [
      "we are won\n"
     ]
    }
   ],
   "source": [
    "n1=eval(input('enter the num1:'))\n",
    "n2=eval(input('enter the num2:'))\n",
    "if n1==n2:\n",
    "    print('we are won')\n",
    "else:\n",
    "    print('we lost')"
   ]
  },
  {
   "cell_type": "code",
   "execution_count": 46,
   "id": "56e4c5e0-877e-4a5b-a6be-f431a0ad9ff0",
   "metadata": {},
   "outputs": [
    {
     "name": "stdout",
     "output_type": "stream",
     "text": [
      "7\n"
     ]
    },
    {
     "name": "stdin",
     "output_type": "stream",
     "text": [
      "enter the num2: 8\n"
     ]
    },
    {
     "name": "stdout",
     "output_type": "stream",
     "text": [
      "we lost\n"
     ]
    }
   ],
   "source": [
    "###### import random\n",
    "n1= random.randint(1,10)\n",
    "print(n1)\n",
    "n2=eval(input('enter the num2:'))\n",
    "if n1==n2:\n",
    "    print('we are won')\n",
    "else:\n",
    "    print('we lost')"
   ]
  },
  {
   "cell_type": "code",
   "execution_count": 48,
   "id": "f2c34f84-b29f-4030-afa9-11174d234e4f",
   "metadata": {},
   "outputs": [
    {
     "data": {
      "text/plain": [
       "2.5"
      ]
     },
     "execution_count": 48,
     "metadata": {},
     "output_type": "execute_result"
    }
   ],
   "source": [
    "5/2 # division"
   ]
  },
  {
   "cell_type": "code",
   "execution_count": 51,
   "id": "a1add38d-fb45-464b-a45b-fa0097f2bcca",
   "metadata": {},
   "outputs": [
    {
     "data": {
      "text/plain": [
       "2"
      ]
     },
     "execution_count": 51,
     "metadata": {},
     "output_type": "execute_result"
    }
   ],
   "source": [
    "5//2 # floor division"
   ]
  },
  {
   "cell_type": "code",
   "execution_count": 53,
   "id": "4a95d61d-2d63-4a95-a916-01cc5f51b98b",
   "metadata": {},
   "outputs": [
    {
     "data": {
      "text/plain": [
       "1"
      ]
     },
     "execution_count": 53,
     "metadata": {},
     "output_type": "execute_result"
    }
   ],
   "source": [
    "5%2 # modulus operator"
   ]
  },
  {
   "cell_type": "code",
   "execution_count": 55,
   "id": "47ddd7e5-e5cc-4505-b442-97949906a8a3",
   "metadata": {},
   "outputs": [
    {
     "name": "stdin",
     "output_type": "stream",
     "text": [
      "enter a number 4\n"
     ]
    },
    {
     "name": "stdout",
     "output_type": "stream",
     "text": [
      "even\n"
     ]
    }
   ],
   "source": [
    "num1 =eval(input('enter a number'))\n",
    "if num1%2==0:\n",
    "    print('even')\n",
    "else:\n",
    "    print('odd')"
   ]
  },
  {
   "cell_type": "code",
   "execution_count": 57,
   "id": "3e8ba63e-67dc-4944-80df-72c3a0f8f063",
   "metadata": {},
   "outputs": [
    {
     "name": "stdin",
     "output_type": "stream",
     "text": [
      "enter a n1: 5\n"
     ]
    },
    {
     "name": "stdout",
     "output_type": "stream",
     "text": [
      "odd\n"
     ]
    }
   ],
   "source": [
    "n1=eval(input(\"enter a n1:\"))\n",
    "if n1%2==0:\n",
    "    print(\"even\")\n",
    "    \n",
    "else:\n",
    "    print(\"odd\")"
   ]
  },
  {
   "cell_type": "code",
   "execution_count": 59,
   "id": "c7ce6339-9519-4b95-a246-c7151e3f1612",
   "metadata": {},
   "outputs": [
    {
     "name": "stdin",
     "output_type": "stream",
     "text": [
      "enter a number 3\n"
     ]
    },
    {
     "name": "stdout",
     "output_type": "stream",
     "text": [
      "the given number 3 is odd\n"
     ]
    }
   ],
   "source": [
    "n1= eval(input('enter a number'))\n",
    "if  n1%2==0:\n",
    "    print(f' the given number {n1} is even')\n",
    "else:\n",
    "    print(f'the given number {n1} is odd')"
   ]
  },
  {
   "cell_type": "code",
   "execution_count": 69,
   "id": "575a26a7-c3d4-4321-b061-0f5570355dc6",
   "metadata": {},
   "outputs": [
    {
     "name": "stdin",
     "output_type": "stream",
     "text": [
      "enter the distance in kms: 77\n",
      "enter the charge per kms: 4\n"
     ]
    },
    {
     "name": "stdout",
     "output_type": "stream",
     "text": [
      "the total charge is:208\n"
     ]
    }
   ],
   "source": [
    "dis=eval(input(\"enter the distance in kms:\"))\n",
    "if dis>25:\n",
    "    char=eval(input(\"enter the charge per kms:\"))\n",
    "    dis_char=char*(dis-25)\n",
    "    print(f'the total charge is:{dis_char}')\n",
    "else:\n",
    "    print('free ride')"
   ]
  },
  {
   "cell_type": "code",
   "execution_count": 73,
   "id": "9bf6125b-76c0-44f4-a82a-85c405855080",
   "metadata": {},
   "outputs": [
    {
     "name": "stdin",
     "output_type": "stream",
     "text": [
      "enter the distance in kms: 88\n",
      "govt cutoff dis: 15\n"
     ]
    },
    {
     "name": "stdout",
     "output_type": "stream",
     "text": [
      "the char applicable only on:73 kms\n"
     ]
    },
    {
     "name": "stdin",
     "output_type": "stream",
     "text": [
      "enter the charge per kms: 5\n"
     ]
    },
    {
     "name": "stdout",
     "output_type": "stream",
     "text": [
      "the total charge is:315 rs\n"
     ]
    }
   ],
   "source": [
    "dis=eval(input(\"enter the distance in kms:\"))\n",
    "cutoff_dis=eval(input('govt cutoff dis:'))\n",
    "if dis>25:\n",
    "    print(f'the char applicable only on:{dis-cutoff_dis} kms')\n",
    "    char=eval(input(\"enter the charge per kms:\"))\n",
    "    dis_char=char*(dis-25)\n",
    "    print(f'the total charge is:{dis_char} rs')\n",
    "else:\n",
    "    print('free ride')"
   ]
  },
  {
   "cell_type": "code",
   "execution_count": 75,
   "id": "d35b900b-6385-4cea-8b9e-e6acb2b5204e",
   "metadata": {},
   "outputs": [
    {
     "name": "stdin",
     "output_type": "stream",
     "text": [
      "enter the n1: 28\n",
      "enter the n2: 52\n"
     ]
    },
    {
     "name": "stdout",
     "output_type": "stream",
     "text": [
      "52 is greater\n"
     ]
    }
   ],
   "source": [
    "n1= eval(input('enter the n1:'))\n",
    "n2= eval(input('enter the n2:'))\n",
    "if n1>n2:\n",
    "    print(f'{n1} is greater')\n",
    "else:\n",
    "    print(f'{n2} is greater')"
   ]
  },
  {
   "cell_type": "code",
   "execution_count": 79,
   "id": "954f77f3-83ba-480b-b72c-0badd5640299",
   "metadata": {},
   "outputs": [
    {
     "name": "stdout",
     "output_type": "stream",
     "text": [
      "37 is greater\n"
     ]
    }
   ],
   "source": [
    "from random import randint\n",
    "n1= randint(1,100)\n",
    "n2= randint(1,100)\n",
    "if n1>n2:\n",
    "    print(f'{n1} is greater')\n",
    "else:\n",
    "    print(f'{n2} is greater')"
   ]
  },
  {
   "cell_type": "code",
   "execution_count": 87,
   "id": "d5e7d443-311d-4eb6-8928-69fbf2a09eac",
   "metadata": {},
   "outputs": [
    {
     "name": "stdin",
     "output_type": "stream",
     "text": [
      "enter the course: data science\n",
      "enter the inst: naresh it\n"
     ]
    },
    {
     "name": "stdout",
     "output_type": "stream",
     "text": [
      "we r good\n"
     ]
    }
   ],
   "source": [
    "course_name=input('enter the course:')\n",
    "inst_name=input('enter the inst:')\n",
    "if course_name=='data science' and inst_name=='naresh it':\n",
    "    print(\"we r good\")\n",
    "else:\n",
    "    print('not good')"
   ]
  },
  {
   "cell_type": "markdown",
   "id": "9ad30d72-e656-4d47-923b-bfb60af8acb1",
   "metadata": {},
   "source": [
    "**if-elif-else**\n",
    "\n",
    "- when we have two solution based on one condition\n",
    "\n",
    "- then we can go for if-else\n",
    "\n",
    "- when we have 3 solutions based on two conditions\n",
    "\n",
    "- then we go for if-elif-else\n",
    "\n",
    "- if needs condition\n",
    "\n",
    "- elif needs condition\n",
    "\n",
    "- if and elif both are wrong then will get else output"
   ]
  },
  {
   "cell_type": "code",
   "execution_count": null,
   "id": "7574c3c4-b028-4bb5-84b8-b3eb553788e6",
   "metadata": {},
   "outputs": [],
   "source": [
    "two conditions: if elif else\n",
    "three con     : if elif elif else\n",
    "4 cond        : if elif elif elif else\n",
    "\n",
    "# syntax\n",
    "\n",
    "if <condition>:\n",
    "    <write your code>\n",
    "elif <condition>:\n",
    "    <write your code>\n",
    "else <condition>:\n",
    "    <write your code>"
   ]
  },
  {
   "cell_type": "code",
   "execution_count": 2,
   "id": "17feebbd-d1d3-438a-bd74-415593bf9da8",
   "metadata": {},
   "outputs": [
    {
     "name": "stdin",
     "output_type": "stream",
     "text": [
      "enter the number: 34\n"
     ]
    },
    {
     "name": "stdout",
     "output_type": "stream",
     "text": [
      "enter a valid number\n"
     ]
    }
   ],
   "source": [
    "num=eval(input('enter the number:'))\n",
    "if num==1:\n",
    "    print(\"one\")\n",
    "elif num==2:\n",
    "    print(\"two\")\n",
    "elif num==2:\n",
    "    print(\"three\")\n",
    "else:\n",
    "    print('enter a valid number')"
   ]
  },
  {
   "cell_type": "code",
   "execution_count": 8,
   "id": "dd8fac9d-5e51-40c3-8f3d-478b31cf3502",
   "metadata": {},
   "outputs": [
    {
     "name": "stdin",
     "output_type": "stream",
     "text": [
      "enter the percent: 65\n"
     ]
    },
    {
     "name": "stdout",
     "output_type": "stream",
     "text": [
      "B grade\n"
     ]
    }
   ],
   "source": [
    "per=eval(input('enter the percent:'))\n",
    "if per>=75:\n",
    "    print('A grade')\n",
    "elif per>=60:\n",
    "    print('B grade')\n",
    "elif per>45:\n",
    "    print('C grade')\n",
    "elif per>35:\n",
    "    print('D grade')\n",
    "else:\n",
    "    print('fail')\n"
   ]
  },
  {
   "cell_type": "code",
   "execution_count": 22,
   "id": "e8749bf6-1a08-4f85-b092-f39afa5f7329",
   "metadata": {},
   "outputs": [
    {
     "name": "stdin",
     "output_type": "stream",
     "text": [
      "enter the age: 14\n"
     ]
    },
    {
     "name": "stdout",
     "output_type": "stream",
     "text": [
      "kid\n"
     ]
    }
   ],
   "source": [
    "age=eval(input('enter the age:'))\n",
    "if age>=100: #greater 100 \n",
    "    print('unlucky guy')\n",
    "elif age>=80: # 80 to 100\n",
    "    print('super senior citizen')\n",
    "elif age>=60: #60 to 80\n",
    "    print('ss')\n",
    "elif age>=40: # 40 to 60\n",
    "    print('aged')\n",
    "elif age>=25: # 25 to 40\n",
    "    print('ma')\n",
    "elif age>=15: # 15 to 25\n",
    "    print('young')\n",
    "else:\n",
    "    print('kid')"
   ]
  },
  {
   "cell_type": "code",
   "execution_count": 24,
   "id": "5a77b844-31b4-4f94-9d18-e4d30d2e9a8b",
   "metadata": {},
   "outputs": [
    {
     "name": "stdin",
     "output_type": "stream",
     "text": [
      "enter the distance: 67\n",
      "enter the charge: 6\n"
     ]
    },
    {
     "name": "stdout",
     "output_type": "stream",
     "text": [
      "the total charge is:402\n"
     ]
    }
   ],
   "source": [
    "dis=eval(input('enter the distance:'))\n",
    "if dis>=100:\n",
    "    charge=eval(input('enter the charge:'))\n",
    "    total_charge=dis*charge\n",
    "    print(f'the total charge is:{total_charge}')\n",
    "elif dis>=50:\n",
    "    charge=eval(input('enter the charge:'))\n",
    "    total_charge=dis*charge\n",
    "    print(f'the total charge is:{total_charge}')\n",
    "elif dis>=25:\n",
    "    charge=eval(input('enter the charge:'))\n",
    "    total_charge=dis*charge\n",
    "    print(f'the total charge is:{total_charge}')\n",
    "else:\n",
    "    print('free ride')\n",
    "    "
   ]
  },
  {
   "cell_type": "code",
   "execution_count": 26,
   "id": "93736ad7-02f7-49fc-9afb-547add85abed",
   "metadata": {},
   "outputs": [
    {
     "name": "stdin",
     "output_type": "stream",
     "text": [
      "enter the distance: 56\n"
     ]
    },
    {
     "name": "stdout",
     "output_type": "stream",
     "text": [
      "charge is 20rs for morethan 100km\n",
      "charge is 10rs for between 50km to 100km\n",
      "charge is 5rs for between 25km to  50km\n",
      "free ride for lessthan 25km\n"
     ]
    },
    {
     "name": "stdin",
     "output_type": "stream",
     "text": [
      "enter the charge: 10\n"
     ]
    },
    {
     "name": "stdout",
     "output_type": "stream",
     "text": [
      "the total charge is:560\n"
     ]
    }
   ],
   "source": [
    "dis=eval(input('enter the distance:'))\n",
    "print(\"charge is 20rs for morethan 100km\")\n",
    "print(\"charge is 10rs for between 50km to 100km\")\n",
    "print(\"charge is 5rs for between 25km to  50km\")\n",
    "print(\"free ride for lessthan 25km\")\n",
    "if dis>=100:\n",
    "    charge=eval(input('enter the charge:'))\n",
    "    total_charge=dis*charge\n",
    "    print(f'the total charge is:{total_charge}')\n",
    "elif dis>=50:\n",
    "    charge=eval(input('enter the charge:'))\n",
    "    total_charge=dis*charge\n",
    "    print(f'the total charge is:{total_charge}')\n",
    "elif dis>=25:\n",
    "    charge=eval(input('enter the charge:'))\n",
    "    total_charge=dis*charge\n",
    "    print(f'the total charge is:{total_charge}')\n",
    "else:\n",
    "    print('free ride')\n",
    "    "
   ]
  },
  {
   "cell_type": "code",
   "execution_count": 34,
   "id": "627dc967-1f77-4896-ba3b-91b01589fd8e",
   "metadata": {},
   "outputs": [
    {
     "name": "stdin",
     "output_type": "stream",
     "text": [
      "enter the number1: 465\n",
      "enter the number2: 45\n",
      "enter the numbers between 1 to 4 2\n"
     ]
    },
    {
     "ename": "NameError",
     "evalue": "name 'add' is not defined",
     "output_type": "error",
     "traceback": [
      "\u001b[1;31m---------------------------------------------------------------------------\u001b[0m",
      "\u001b[1;31mNameError\u001b[0m                                 Traceback (most recent call last)",
      "Cell \u001b[1;32mIn[34], line 4\u001b[0m\n\u001b[0;32m      2\u001b[0m n2\u001b[38;5;241m=\u001b[39m\u001b[38;5;28meval\u001b[39m(\u001b[38;5;28minput\u001b[39m(\u001b[38;5;124m'\u001b[39m\u001b[38;5;124menter the number2:\u001b[39m\u001b[38;5;124m'\u001b[39m))\n\u001b[0;32m      3\u001b[0m operation\u001b[38;5;241m=\u001b[39m\u001b[38;5;28meval\u001b[39m(\u001b[38;5;28minput\u001b[39m(\u001b[38;5;124m'\u001b[39m\u001b[38;5;124menter the numbers between 1 to 4\u001b[39m\u001b[38;5;124m'\u001b[39m))\n\u001b[1;32m----> 4\u001b[0m \u001b[38;5;28;01mif\u001b[39;00m add\u001b[38;5;241m==\u001b[39mn1\u001b[38;5;241m+\u001b[39mn2:\n\u001b[0;32m      5\u001b[0m     add_oper\u001b[38;5;241m=\u001b[39m\u001b[38;5;28meval\u001b[39m(\u001b[38;5;28minput\u001b[39m(\u001b[38;5;124m'\u001b[39m\u001b[38;5;124menter the number:\u001b[39m\u001b[38;5;124m'\u001b[39m))\n\u001b[0;32m      6\u001b[0m     add\u001b[38;5;241m=\u001b[39mn1\u001b[38;5;241m+\u001b[39mn2\n",
      "\u001b[1;31mNameError\u001b[0m: name 'add' is not defined"
     ]
    }
   ],
   "source": [
    "n1=eval(input('enter the number1:'))\n",
    "n2=eval(input('enter the number2:'))\n",
    "operation=eval(input('enter the numbers between 1 to 4'))\n",
    "if add==n1+n2:\n",
    "    add_oper=eval(input('enter the number:'))\n",
    "    add=n1+n2\n",
    "time.sleep(2)\n"
   ]
  },
  {
   "cell_type": "code",
   "execution_count": null,
   "id": "079c140d-6168-445d-bc30-56a70fdab44b",
   "metadata": {},
   "outputs": [],
   "source": [
    "from time import sleep\n",
    "print('for addtion press 1')\n",
    "sleep(1)\n",
    "print('for subtraction press 2')\n",
    "sleep(1)\n",
    "print('for multiplication press 3')\n",
    "sleep(1)\n",
    "print('for division press 4')\n",
    "sleep(1)\n",
    "operation=eval(input('enter the oprtation'))"
   ]
  },
  {
   "cell_type": "markdown",
   "id": "e8baf9e3-d6e1-4d78-bf9f-9af6e36fad2f",
   "metadata": {},
   "source": [
    "**nested if-else**"
   ]
  },
  {
   "cell_type": "code",
   "execution_count": 2,
   "id": "87f82d91-aa29-4cd7-80f9-3b2ebac96bf6",
   "metadata": {},
   "outputs": [
    {
     "name": "stdin",
     "output_type": "stream",
     "text": [
      "enter the number: 77\n"
     ]
    },
    {
     "name": "stdout",
     "output_type": "stream",
     "text": [
      "the given 77 is postive\n"
     ]
    }
   ],
   "source": [
    "num=eval(input(\"enter the number:\"))\n",
    "if num>0:\n",
    "    print(f\"the given {num} is postive\")\n",
    "elif num<0:\n",
    "    print(f\"the given {num} is negative\")\n",
    "\n",
    "else:\n",
    "    print(\"it is a zero\")"
   ]
  },
  {
   "cell_type": "code",
   "execution_count": 8,
   "id": "ee1401de-2614-483f-909a-8ca15d69a617",
   "metadata": {},
   "outputs": [
    {
     "name": "stdin",
     "output_type": "stream",
     "text": [
      "enter the number: 0\n"
     ]
    },
    {
     "name": "stdout",
     "output_type": "stream",
     "text": [
      "it is a zero\n"
     ]
    }
   ],
   "source": [
    "num=eval(input(\"enter the number:\"))\n",
    "if num>=0:\n",
    "    if num==0:\n",
    "        print(\"it is a zero\")\n",
    "    else:\n",
    "        print('it is a postive')\n",
    "else:\n",
    "    print(\"it is a negative number\")"
   ]
  },
  {
   "cell_type": "code",
   "execution_count": 14,
   "id": "0b459314-30d6-4096-9cb3-67b73f2e4291",
   "metadata": {},
   "outputs": [
    {
     "name": "stdin",
     "output_type": "stream",
     "text": [
      "enter the gender: female\n",
      "enter the age: 3\n"
     ]
    },
    {
     "name": "stdout",
     "output_type": "stream",
     "text": [
      "girl\n"
     ]
    }
   ],
   "source": [
    "# wap ask the user enter a gender\n",
    "#if gender eqal to male\n",
    "#   ask the user to enter age\n",
    "#   if age greater than or eqal to 60 print sc\n",
    "#   if age between 30 to 60 print middle aged man\n",
    "#   if age between 10 to 30 print young man\n",
    "#   otherwise print a boy\n",
    "#if gender eqal to female\n",
    "#   ask the user to enter age\n",
    "#   if age greater than or eqal to 60 print sc\n",
    "#   if age between 30 to 60 print middle aged women\n",
    "#   if age between 10 to 30 print young girl\n",
    "#   otherwise print a girl\n",
    "gender=input('enter the gender:')\n",
    "if gender=='male':\n",
    "    age=eval(input('enter the age:'))\n",
    "    if age>=60:\n",
    "        print(\"sc\")\n",
    "    elif age>=30:\n",
    "        print(\"mam\")\n",
    "    elif age>=10:\n",
    "        print(\"young boy\")\n",
    "    else:\n",
    "        print(\"boy\")\n",
    "elif gender=='female':\n",
    "    age=eval(input('enter the age:'))\n",
    "    if age>=60:\n",
    "        print(\"sc\")\n",
    "    elif age>=30:\n",
    "        print(\"maw\")\n",
    "    elif age>=10:\n",
    "        print(\"young girl\")\n",
    "    else:\n",
    "        print(\"girl\")\n",
    "else:\n",
    "    print(\"enter a valid gender\")"
   ]
  },
  {
   "cell_type": "code",
   "execution_count": 26,
   "id": "5972b599-a4a5-4c9a-bc5e-9394746f0c43",
   "metadata": {},
   "outputs": [
    {
     "name": "stdin",
     "output_type": "stream",
     "text": [
      "enter the num1: 1\n",
      "enter the num2: 2\n",
      "enter the num3: 3\n"
     ]
    },
    {
     "name": "stdout",
     "output_type": "stream",
     "text": [
      "3 is greater\n"
     ]
    }
   ],
   "source": [
    "# wap ask the user take three numbers\n",
    "# find the biggest number\n",
    "\n",
    "num1=eval(input('enter the num1:'))\n",
    "num2=eval(input('enter the num2:'))\n",
    "num3=eval(input('enter the num3:'))\n",
    "if num1>num2:\n",
    "    if num1>num3:\n",
    "        print (f'{num1} is greater')\n",
    "    else:\n",
    "        print(f'{num2} is greater')\n",
    "elif num2>num3:\n",
    "    print(f\"{num2}\")\n",
    "else:\n",
    "    print(f\"{num3} is greater\")"
   ]
  },
  {
   "cell_type": "code",
   "execution_count": null,
   "id": "ed4e5474-bd00-4ac5-953d-ef2b79824919",
   "metadata": {},
   "outputs": [],
   "source": []
  }
 ],
 "metadata": {
  "kernelspec": {
   "display_name": "Python 3 (ipykernel)",
   "language": "python",
   "name": "python3"
  },
  "language_info": {
   "codemirror_mode": {
    "name": "ipython",
    "version": 3
   },
   "file_extension": ".py",
   "mimetype": "text/x-python",
   "name": "python",
   "nbconvert_exporter": "python",
   "pygments_lexer": "ipython3",
   "version": "3.12.7"
  }
 },
 "nbformat": 4,
 "nbformat_minor": 5
}
