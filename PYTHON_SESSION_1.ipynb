{
 "cells": [
  {
   "cell_type": "code",
   "execution_count": 4,
   "id": "a424bdfe",
   "metadata": {},
   "outputs": [
    {
     "data": {
      "text/plain": [
       "10"
      ]
     },
     "execution_count": 4,
     "metadata": {},
     "output_type": "execute_result"
    }
   ],
   "source": [
    "a=10\n",
    "a"
   ]
  },
  {
   "cell_type": "markdown",
   "id": "3722d849-7bf6-4023-ae5c-e6e8d8c90024",
   "metadata": {},
   "source": [
    "- i have changed \n",
    "- i can change"
   ]
  },
  {
   "cell_type": "code",
   "execution_count": 5,
   "id": "225b5eca",
   "metadata": {},
   "outputs": [
    {
     "data": {
      "text/plain": [
       "30"
      ]
     },
     "execution_count": 5,
     "metadata": {},
     "output_type": "execute_result"
    }
   ],
   "source": [
    "a=10\n",
    "b=20\n",
    "a+b"
   ]
  },
  {
   "cell_type": "code",
   "execution_count": 6,
   "id": "0d03eb0a",
   "metadata": {},
   "outputs": [
    {
     "data": {
      "text/plain": [
       "100"
      ]
     },
     "execution_count": 6,
     "metadata": {},
     "output_type": "execute_result"
    }
   ],
   "source": [
    "n1=100\n",
    "n1\n",
    "# shift+enter"
   ]
  },
  {
   "cell_type": "markdown",
   "id": "d7e74b2c",
   "metadata": {},
   "source": [
    "# im learning python"
   ]
  },
  {
   "cell_type": "markdown",
   "id": "cced9b49",
   "metadata": {},
   "source": [
    "\n",
    "\n",
    "\n",
    "- esc+m code mode to markdown mode\n",
    "\n",
    "\n",
    "- esc+y markdown to code mode \n",
    "\n",
    "\n",
    "- shift+enter\n",
    "\n",
    "\n",
    "- square bracket indicates code mode\n",
    "\n",
    "\n",
    "- when we are in markdown square bracket will not appear\n",
    "\n",
    "\n",
    "- blue color bar indicates corresponding cell selected\n",
    "\n"
   ]
  },
  {
   "cell_type": "markdown",
   "id": "dd8af881",
   "metadata": {},
   "source": [
    "## virat kohli"
   ]
  },
  {
   "cell_type": "markdown",
   "id": "45d77053",
   "metadata": {},
   "source": [
    "<img id=\"dimg_bQwZZ5aGMtq_vr0PyqN5_307\" src=\"data:image/jpeg;base64,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\" class=\"YQ4gaf\" height=\"194\" style=\"object-position:57% 91%\" width=\"259\" alt=\"Virat Kohli | Life, Career, Cricket ...\" data-csiid=\"bQwZZ5aGMtq_vr0PyqN5_9\" data-atf=\"1\">"
   ]
  },
  {
   "cell_type": "markdown",
   "id": "7c8a8157",
   "metadata": {},
   "source": [
    "<img id=\"dimg_DQ4ZZ-fEKuKP4-EP2syxwQI_23\" src=\"data:image/jpeg;base64,/9j/4AAQSkZJRgABAQAAAQABAAD/2wCEAAkGBxISEhUSEhAVFRUVFRUQFRUVFRAVEBUVFRUWFhUSFRUYHSggGBolHRUVITEhJSkrLi4uFyAzODMtNygtLysBCgoKDg0OGhAQGislHSUtLS0tLS0tLS0tLS0tLS0tLy0rLS0tLS0tLS0tLSstLS0tLS0tLS0tLS0tLS0tLS0tLf/AABEIAKgBLQMBIgACEQEDEQH/xAAcAAABBQEBAQAAAAAAAAAAAAABAAIDBAYFBwj/xABCEAACAQIEAwUFBgMGBQUAAAABAgADEQQSITEFQVEGEyJhcQcygZGhFCNCUrHBctHwQ2KCouHxFiQzU2MVRIOS0v/EABkBAAMBAQEAAAAAAAAAAAAAAAABAgMEBf/EACgRAAICAgICAQQBBQAAAAAAAAABAhEDIRIxIkEEE1FhcUIUMlKRof/aAAwDAQACEQMRAD8A9hRYalK8ewsZJacmFUnBlS+5yu6sfpHVKUu1qUHd3EjBj4ScBydqzPV6Nm+P0lbG4ad7F4a+vwleph7iLFDjOUAk7SZlkrFW8x9RLGNwVPFU7HQj3WHvI37jy5x/FsFqGG+0oLWam1/9iJwZ8LhJuJ1QmpxqRlcdhqlB8lQWO4I91h+ZTGJWm9q0aWKplXFx/nRvzKeX7/SYfjfB6uGbUZqZNlqAaa7Kw/C368ppiyqfi+zgz/GcNroQrSbCpUqnLTRnPRVLH1NthKDOtMAsbt+UW06ep+kixPHHNkQb+Zsb8vM/pO6HxW9syjifs72J4Li0GZsO4HlZj8lJMynGu0Iw7FAgeoN1a4RD/wCS2pP90W8yOdTivaKpT+7ovdzpn3PQlb7LuB1teVOC9kmxHvFtddD15k7ky3gxw3Jm2P4zk9HJ4jxetiGz16zVDsLmyIOiIPCg8gBNR7LMC1TEVKv4aVOxPItUIsPkjfSN4x7MsTSpNWoHvAozNTt95lG5S3vEdNzyudJ6N7PuzxwuCRWFqlX76p1DOBZT/CoUeoM1eSPB8TSUJRdM63C8JqPLWd6lTtGYPD2F/wCrCXcJSFQZgfAdiN28x0E5cMeMPywltlOmtz66y6BLtPDoNlH6n5x/djoPkI8OJwu+2EnZyX1P0k9NLCS1sMAcwGnTp5+kLpbeLFjqcpS7CT1SK1Y8pHSp3Mmy3MlCASFj+rk5PpDviqGSs7XMnrdIxEvF8hucuERx0rYqKc5ITaG0iqNf0mjSwQ12T/cxjG8SJf0jkS8mtObFgeR8pdFylWkACQ1XvpHVX5SKV8jL/CIox9sbJEpX1MclPmZKZGH41+Uxyn6Q2RvUvoI2q141Ys2a/GPQ4x9saRGlZOEvHrTAmEPjyn+inNIts14aLyurRuexnsT8ZKf+znW9F4i8YkCvBm19ZUlTUgX2DUS4kIp6S1GKNTCUfJMF1RysfhbjacXGcPuu3Ka2ol5TbD3EUoef7QJ6MA4ei1wSOh/Yyr2t7TFcNlVQHe6te9gBY+HnczX8V4bmG3OeMdr+ID7TUT8NJmpgeamxv8QZzQ+JH61+ls3eZuFPsoJVa+ZhY2t5eZPSMrcQCKxB1sRfS4W2uXzI0+Mr0qtRgBTVndr5VG5sCx+AAvOTVcsAo1u1yevMmemc5f4EhqVcxX3iLW28h6Wt8BPX6FWlhKPeVCFAtfrc7AcySTtMd2Hw1Pe3iAAHkOZt8pq8TwU13UsbqmqKbWDWtm/rznFlknLZ34otR0RN2/qUlFT/ANPrNSuBm8K79AZssDxUVqqJTpsab0DiO8tYKQ4UUz1JzH0yHrMdjeE49qbUEp03puLMzORbW4IW24Njp0nfoYgYOmiVKyoVTvGLMFUAaHXpMpPVJGksXJbZY7eY50SlhaWjVmCuelO9sv8AiN/gpHOafEYxMHhld1YpTCKxQZiqkhTUIGthe5tyvPIeOcaOJrJjaV6lJWpouuUHI5B0I0OYA5rbNNfh/aTT8atRfTRPcOa975xyA06nXnHz3/w48kONI9AoV1dQ6MGVhmDKbgg8wRvJBPEuzHberha7g0h9nd2c0UsBSudWpAnTrl2325eh8exOKqUBi+G1g4tmalZWFQD8mYXVhbVNL67NvcZ2ZuNGqM5PFeN0cMyLWawqZsujN7ou1wATa2t9hY3mBwPtKxFwauHGQZlOUjMXvcAk+6LcrEm2+9np2mTF4pKrUnBVO7o6XppVYXqNm01A0BttrppfPNPVxKjHez0HAYijXQVaFRaiNsVIK/PkfKSs1pwMd2bHefaMI/2bEbllH3FX+7XpDRgfzCzc76S5w3jArN3FdO5xIGbJe6VFG9Si/wCNeo3HMCbW4qiKvZdAuZIEtCq205xO1oY4KC5PsG70Q1TyjFW8dlvJAtpioPLK30VfFCAjKjcoXa0jlZslLjEUV7Yy0lROsKpHEyMWBLykOUr0gGQs14WN420zzZHLS6HGNDSIUpyZUhaEPje5A5/YKxjPGM8EJ5q1AFH7kyCB0uJYdNbxFJ3xWuLMvyV6Taeke7aQmnr6xGnCMfHiwfdktOpcRxOo+UqoLaSQtH3EPZYjAu8aKkIfWU/QDK1AET5d7SKRicSp95sRUUk8rVH0/rpPqbNPnj2wcKajxKq9rJiEGIpm2hZQBUF+t82n94dY4rYGc4bxOnSdzkLEJ3dLQNY2OZrb5iQqix0zE62AkmB7P1VYB+6DAW7s1EFQG2oPInyB0nAw+JKVFdQCUdagB2JVg1j5aT17B8RwmOw5WlZWJDWKg1qLX8WXS55+IfSRmlKK0dPxscZt32ZPhuIfDVAShA9QR5jSegcO4yjrnQg+XO/QzgYvhFRKLq/dsuZ3DKGFUKTchwRbTcEHnbzmH+31KLlQ5GutjofOc6XP9m8rxfo9erdpKi/hsPKZ3tZxinUw9RqqhtAEzKCUOviF9jt8pjm7QVdPvCb8jtpaU+Jdo3ZDTB0ZcrXGpO1x+vrrHHC7JlnVF7gXEjToijUuFLZhsD4zvY9D+06NPEtlKk3YXBO1wDoD15fITC4nGO1rm4AsDz0nq3s9xGAxi00xQy1gURGBCo9ibK2lrm9td9PjGfFXkYOXPS9GVev4rg2M0vY7tc+CqAA3psRmpk2U+h/C3Q7cjptruMezOixvh6/dKd1qKaoHPwsTfkN789ZjeM8NwWFSpTbEmriMuUJTplaSEk3JZt9NNvOc8Y78WSo72bTtfwBcZROP4eSWN2rURcFmHvHJyqjmv4txr73C9nOENVi+uVTlGpy523I5Xtp8Zyex3bGvQrl90IUVCRlo20VFqsBZegqHUHe4vb1bBUqDMcbQz5QG7zDgAFKp1d2W+jWJvve4YdTc8X1Pw/ZS0zvu1tJT4hwxK6ZXBuDmRlNqlNhs6Nurf7HSU17QUSM2pHlYn0tL3DeIrXUlQRbk36jrOpcZvZMsc4q6Bw7FOT3FcjvQLq40Wso/GByYaZl+I02nIN7GVuI4PvQACVZTnpuPeRxs4/QjYgkHeTcPxZqqQyhatM5Kqja9rhl6ow1B+G4MVcnx9EdbJwIyoY4vI7XlTlxXGIkr2xlpKq2hC2gLRQxqPlIbd6ExtIibwmJUmU5PI6Q1oaFvJFW0cBGO0uOOONWxNthYyFjeG8IEwyTc9ItKiIyRRHCnHQh8f/IHP7Fm8SnlGgwGeh+TIkYQQCAxiEVjSsIMMdARgQ2j4IAATg9teytPiOH7lzkqIe8o1LXNOoBbUc1OxH7gTQgRQA+Ue0PZPGYFyMRhnVQSBUUFqDDkVqDT4Gx8pT4TWyuLEjzBt8RPrsHlPFfat2DFGr9uw1O1Fzeug/s6jN/1QPyMSLgbH+LRT3EvG6kjMrxHEuppmsxVhlIbXQ8rzM8Xosr3YfGavhdK9pY43wcVE85xwlxkd+SLnE87qVuV5C1Qkee06dXgbKTmufSaLsB2dpYnHUKFVL02YlxrqqIzlb+eQD0JnX9SPo4njl7MUgZtlJsCxsCbKBck22AF57H7G+wIrYarXxaMErZVoLezWW5auOgNwAeYB3BE9g4VwfDYVSmGw9OirG7CmiqGNrXNt9JczSpU1RmnTtHK4fwXuKYpLUqVFXY1XzuByXNYGw5ThdoexIxxQVmKBGLDuyMxBFipLDQHTboJsi0AM5v6aHK0X9R0YXtV2EX7C1HB01VlKvlAGaoFBuC3N9rX6WmK7M9p61CqGYCnotMEjJR8HhNCsPwppdW/sySPc0X28tPKvahwI0632mnolYZagGxqLrcjzGvrmhPEktGuKfLxkdriFFatM4nDDKoJGIoEAVKLjVrj8vM8rajQ6cjgXaA06xLHw30IvcjmCen+84PZnj9XDugBAYIFVmP3VSmLWw9Y/l1OV/wHQ+H3e9xajTy/a8NSvRzFa9FhaphquxVl5Lv6XHIi2T+/s3hKvCZ6bh6iuiuhurAMD1BlTHr3bDEKLlBlqAbvSvdhbmy+8P8AEPxTkdhuJrUoFF/s7WHQNfT5j6zQbze04pI45x4yaHVEBIZSCrC4I1Fj0MMr4BcuajyH3lL+AnVB/C2nkGQSVmjiktslicyO0cq3kgFpLTm/wPoaqwmImRsbym1BUhbYmeMjgt48LaY8JTdsq0hgSPAhJkZaXUcYtsczSMmKKYTm5FJJFm8daIrBaegZChghgAMsQjo0iACitFFABQgwAw2jEG0r8Rwi1qNSiwutRGpn/EpEmMWQsCAcpsbG17Hkbc4hnhXCsJa06dalpNnjOxFVbtSek53s4ekfPxLnH+WcHiHCq6H73D1EAv4rB6dgNW7xCQo/iynynDPHLuj08eaDVWZnFYEFTprH9gLUuI0WPUp8XU0x9XEs41gDYG/Wx2lClie7q0255gf/AKsD/KTFtMqcU0e8EwXlfhWMpYqmtai+ZGuPMEGzIw5MCCCPKW/s/nPQPLI7wmONA+UjIgIQlfiWDp16bUqq3VvmDyZTyIliACKhpnjfavsrUwhvq9NyQrKrEiwucwA8Jtf1tpLPZau+RXwxZqyqQRUVvs+Ko3P/ACzsRYMoNlPSw229YxNPMpHlcfCZzE4dSQWPxudvKc2THT0b/V5KmDsNgqA72thyxSq2VqT6Ph2T3qL87gn5Ab7zUMLG0yePTuagxeEqB6lgteidPtKDb/5VGzb8jflosDxGniKa1aRzK405EEaFGHJgdCJeOVafZlK27HYl8pWp+Q3P8B0e/lbxW6oJYqU/EfnGVaeW2YXB0J5A9DHolkUXvl8NzvYbX+kLTlsXoUazQFogstv0hUNjgkcBETEoJbY7FGs0BMaBJlP0gSGkw2jwkdaSsbfY+RGEjgISYwtK8Yi2ywDDAREDOggREEfBABsdeKErAAWgtDFeADSIhHERpWABEsIlpBS3vJ1cRMaHxEQZoM3SIZDisJTqC1Smjjoyq36zHdpPZ7SrDNh6poODmAK95RJ8wbOPg1h0M2dWtbcaQo4YXBktJlKTXTPMvZpgOIYLGYjD4uj93XU4gVafiwxqqwDZW3BZW2ax+7Gk9PDRjLApjJJbyFhc2PwMixuMFJGqEGyqWNt7AXMocN49SxI8OZHtmCuMrFeTLyYel4WBfKkbwyRPGtxvGlCN5S2IY40PoZwMVw0Fr5rD8pFx8D+00c42JzBiN9ZlkRUSDDYJEIAUZidDzA5/vIsXhHwtRsZhkLI3ixWHXdwP/cUV/wC4BuPxDztJ6GLC1LuulrX6dT6Q8bqMjU8RSVndAyhFYKjo5UsHJ0VQUQ5rEjbnMZtRjZaTbo7uDxdOvTWpTYPTdcysNQQf62lajWXK9s2UXtcHl+XmROX2cuM9LLSVs5rsKYsB3hJVmXfWxtzNrm3PQ00A9ep3/rykJudS6B60U8CVqoKiMCrC4I1/29JJXUrrYkc7bjztzE53EMM+GZsTQF0Pir0dg3WqnR+vX13fie01FQCLm4vr4beR539BOm9aJqy4KgIuDcHUEbEeUFpgOK+0zBYdj94ua5uiBn13JIXQH4jec2l7csHezYavba4WkB62zk2jUZS7Bqj1IJDaczs72jw2Ppd9hqodb5WWxFRG/K6nUH6HlOiTHqJPYSYwtDBlkNt9D0CKPCwxLH9w5EoMREForzoJCI6MhgIREIMV4oAGNKwwwGNBhvDaC0BDhtGXtG1WsZEXkFFpWgdQf6tIkeSGoRyvACCpVdN/Gn+YfzgpOA3hOjaj9xJhUv7p9VMquo1y6EalfTXT6/OSwOiTpeRJVDEgct/Xe31HzlWtQ7wZTYqRlbqOd1157fLzlmhQyjcsebH3jsLn4AShew1aYZSrC4IsR1ExXFqVXCimuVnCVU7iqtzlXMA1OrzHhzLfW+mmk25kVVQRYi4PI7QKIsOSNAbc/hJjiQLKPET8vWUXcOumzKR0Oot8DKiV7aAjM2rNyUcgJndD7O+hG2l/Kc3iVPUkSGpi+7UKgvUbb/8ATR7sSoPOwv621g5WqEkZnF1XWuDuMjD6rD9vCgUncr3rCihAzOM5GYDp4Qddr23nVrUbnNbYH9Zwu0fDu8plAPGV77DkaN3tINmpX6lGzAf3WP4ZjkpIuPZ2+O8OamVxuDW9WgClSnck16O7U2O5ce8Cbm/XSdD/AInw5oJXV8wqC6KLZyeakcrHQzL8C7ZhaDVKo++sqsnuhqiqPvPIZbZjyyjqBPMO1PapaRbuwpq1CXIAsgLG5ZgNhrovzlYrkqHXtmx7Y+0RaY8TXJ92muo/19Tp67TyHj3arEYokM5VDpkUmxHRju3pt5TjV67VGLuxZmNyTuZFOyMEjOU70gxRR0sg3XsU4lUpcVpU1bwVxUo1F1sQEZ1NuoZRr0J6z6TKT5/9gnAjWxzYojwYZDY8jVqgoo8/Cah8tJ9BMZlNKxjLQwExshsdBZo25htBlkttjLMbaG0N5sQNtFHRpEAFCDBAYAPiBkd4c0AJLwrGAxwgMo8SrhWlZcRIeNa5h+IfUcjObga5y2b3lNj5g7H+ukzA7grW16TpUXDgETh06g676fPaUq3GGp4ilg0YK1YPULnU0qSWDOqnQsWZVF9NSdbWLGaephw3qOfONOGY7m9tjz+PWTUaCqLL8ySST1JOpPnHwoChgyVupGxI+F9D8rS4TBWTnz/aBj4YkqAWaMvG0oVEBlSsLfP/AFmX4RxBEH3jgkEgD3n0J3ttNVihr8JgMMFSo9wT430A/vHnM32M1uCqB2LLfXckWNhyAj+FVcyG517yrb071tJzMHjW5AIPmx9TBhA2QqjeIVHbz18VvQ3t/ivykjOtiXFPxEiw3HOxsJzcdVHjzVFCKFq035o4N1Nr68xbmAQfenN45xOlSoNVY2NtF0u56E8xe08xqY/FY8VVQmmlOmWqOCRZW0VD5sRYDyJ5RNctG2OP8n0V+2/atWdzQUL3tnIGoUW0F7cz4vl10yHDOE4jFsxQXOpLMbAtvlBO5go4Xv6ra+BSRca6cgJ3MO5p3Sm2UZcp12G5+Pn5zZNY1S7Eoc3fo4B4XWFHvzTIpXAzac9tL3setpTBmwwSitZa2fuVuwRc2apl1v4Re1rkDf6CZGrluct8tzlvbNlvpe3O02xz5dmWSHHoaZPgMFUr1Uo0UL1KjBEUbknl5evKR4eg1RlRFLsxCqqgszMdAABqTPo/2U+zscOp/aMQA2LqLY7FaCH+zU82P4mHoNLk03RkaDsR2ZThuDTDKQze/Vcfjqt7x9Boo8lE7lpIYJlQxmWLLHRpaGgFFG3gisZMDHSLNCGlkkkUaGhvABERR0VoANtGx8VoARkwho4rGkQA5PHqJsKi7gW/3/rlOJTrBjcaNzU/qPKazEJmUr1EzONpC2i+LkeYMzktjIMUDUpVKOcozoyo43UkeFx5g2PwnJ7K9nMTS77F42sMRiqoFO6kZUp07lUTRQMx1NgBoOdzLdOq3uvYMOmx851eH4m+l/hBMDsdl8fUq0FNVcr6gjXrpoRcG1tP1nZmawVbu6nk2h/nNKhuI0MOWVmG4lqV3I/raDAao0iSFTEsAK+LE5Ldmab+NXdGbxHYrc6nTQ7+c7OIGkmwqHKNPnEkmwMueBV0PhKVB65X+R0+sq1aFWmzMUKg5bX08ViDrsdLDflNsygbynheKUnqPSViHXkwsSOq9RBwQ7PIO2dFqtZabN3eQAMCbW59ND4hK2F7MURTcJi2QVAFrFSM9RQb5Ap0GvM7Tve2HhDD/mk28K1lG45LV9NgfQHrPLqfaF6akLboL6+XznO4yvR3YskONMscXWnTY0qFLKi6AaknldjzMgXCbX1J8Tefl8T9B5x/CcYHvnGpINzuZ3uFdnq2Mq91himbIzFnLCmighSSQCTuNBvflvBXdFNxq/Rk+L8aNM5aZGe1gw/ADuP4v0lHsx2XxfEKnd4WiX1GZzpRpjq7nQdbbnkDPYeBewvDowfF4p6/M06a90hPMM+YsR6ZTPU+HYGlQpilQpJSpr7qIoVRfc2HM8zznXFKKpHBObk7ZlPZ/wCzrD8MXPfvsSRZqzCwW+6Ul/CPPc+mg2RMRggQNJgMcYoANitCYgYqAaVgtHEwXhoYLRSQiNKyiQQ3iitGAQY4NI7QxASRGR3jrwAeGitGxXgMdlE4nEsH4yRsdf5ztgyHGU7rfmNYmgMLxGhlJqMcqqCT1J6SHhmODAOLjqDuJa47Saqe7AvqD5aSg+GyOEVtV1c2uWP/AG1HIDrMwNA75gD8Z3eFYoMti1iJk8HiNLH6zqYFQWELGaOtikBCk7+pvblJTUAGvy/acKrVy5qze6gJF9ASNpcwGJLU1qVLXyhzbQai9vraOwOrlFhp8Iio6SrhcYri/PpJWqSgJco6CMq1LSpVxGW2v9W0mZ/46RGZK9IixtdTf42isDt4zij0j4lLoenvD+cxvGMTmqd6LjmpXR1I535TtHtbg3GtXToQdJx8VWo1CRhi1QndEVmPrYDSQ9gZziPaSucyVSKitcXa1ypFirC1iJlOF9iquMr5MMBlvdi18lJSdSW5joNz1npNPsLWxDZqlqKedmqn0UGw+J+E2/A+DUcHT7uipAJuzMbu56sf2Gkai7BOjAYD2K4cf9bG1nP/AIkpUh/mDn6zc9muzGHwKlaAYlgAzu2aowW9hewAGp2A3nWzRZppxQcmIwExEwRkhBgMF4YAK8BivFEMbFCYoACKGK8VAOBitBFKEK0EMUAEDFliigALRBoooAOvAViigAhBXfwN6RRRMZhsZjSH8O94/h+EJLMxHi8R8gNT8IopmgKOMVi6sqktUISmmotSU3Zz5k7H1ljEcW7vwLq6nK21getwf2iigM5PaHtPWrAUiqqEtfLpnPW1zYeU6GO7SWwyUADnYLmbS2UAaDz/AJRRRCK78asBYkHbeWsP2kOxb6wxQAu0MT3rq2bwr4yb7Bdf2mY4jVTFPk7l2fk1JWZiPMCKKFDLPB/Z3VqNeszUqfQkGqR0Ci4X1O3Qz0jhvDqWHpilRQIo5Dcn8zHcnzMMU0UUhFjNFeKKUIVo20MUAFeK8MUABaK8UUBgtFDFEALxRRQAUFooogP/2Q==\" class=\"YQ4gaf\" height=\"168\" style=\"object-position:57% 0%\" width=\"301\" alt=\"Virat Kohli named captain of both ICC ...\" data-csiid=\"DQ4ZZ-fEKuKP4-EP2syxwQI_9\" data-atf=\"1\">"
   ]
  },
  {
   "cell_type": "markdown",
   "id": "7143bc44",
   "metadata": {},
   "source": [
    "- ctrl+A\n",
    "- ctrl+C\n",
    "- ctrl+V\n",
    "- esc+m\n",
    "- shift+enter"
   ]
  },
  {
   "cell_type": "code",
   "execution_count": 7,
   "id": "4e4b5ff9",
   "metadata": {},
   "outputs": [
    {
     "name": "stdout",
     "output_type": "stream",
     "text": [
      "10.0\n",
      "100.0\n",
      "1000.0\n"
     ]
    }
   ],
   "source": [
    "print(1e1)\n",
    "print(1e2)\n",
    "print(1e3)"
   ]
  },
  {
   "cell_type": "markdown",
   "id": "1410b8a6-e954-42b2-98bd-cd22674df672",
   "metadata": {},
   "source": [
    "**boolean**"
   ]
  },
  {
   "cell_type": "code",
   "execution_count": 1,
   "id": "0b3109b5-75db-4d82-b985-40a667193782",
   "metadata": {},
   "outputs": [
    {
     "ename": "NameError",
     "evalue": "name 'Type' is not defined",
     "output_type": "error",
     "traceback": [
      "\u001b[1;31m---------------------------------------------------------------------------\u001b[0m",
      "\u001b[1;31mNameError\u001b[0m                                 Traceback (most recent call last)",
      "Cell \u001b[1;32mIn[1], line 2\u001b[0m\n\u001b[0;32m      1\u001b[0m value\u001b[38;5;241m=\u001b[39m\u001b[38;5;28;01mTrue\u001b[39;00m\n\u001b[1;32m----> 2\u001b[0m Type(value)\n",
      "\u001b[1;31mNameError\u001b[0m: name 'Type' is not defined"
     ]
    }
   ],
   "source": [
    "value=True\n",
    "Type(value)"
   ]
  },
  {
   "cell_type": "code",
   "execution_count": null,
   "id": "8a19e4ac-8ae0-4785-a1b9-d44e1636aa04",
   "metadata": {},
   "outputs": [],
   "source": []
  }
 ],
 "metadata": {
  "kernelspec": {
   "display_name": "Python 3 (ipykernel)",
   "language": "python",
   "name": "python3"
  },
  "language_info": {
   "codemirror_mode": {
    "name": "ipython",
    "version": 3
   },
   "file_extension": ".py",
   "mimetype": "text/x-python",
   "name": "python",
   "nbconvert_exporter": "python",
   "pygments_lexer": "ipython3",
   "version": "3.12.7"
  }
 },
 "nbformat": 4,
 "nbformat_minor": 5
}
